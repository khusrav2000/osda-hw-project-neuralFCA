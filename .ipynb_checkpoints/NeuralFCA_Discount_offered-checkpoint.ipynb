{
 "cells": [
  {
   "cell_type": "code",
   "execution_count": 1,
   "metadata": {
    "colab": {
     "base_uri": "https://localhost:8080/"
    },
    "id": "cuicenOBvdEQ",
    "outputId": "ad1943da-99e0-493b-dd85-8b98956acbfc"
   },
   "outputs": [
    {
     "data": {
      "text/plain": [
       "'!pip3 install fcapy[all]\\n!pip3 install frozendict\\n!pip3 install ipynb\\n!pip3 install sparselinear\\n!pip3 install bitsets\\n!pip3 install bitarray\\nimport torch\\n!pip3 install torch-scatter -f https://data.pyg.org/whl/torch-2.0.0+cuda118.html\\n!pip3 install torch-sparse -f https://data.pyg.org/whl/torch-2.0.0+cuda118.html\\n!pip3 install torch-cluster -f https://data.pyg.org/whl/torch-2.0.0+cuda118.html\\n!pip3 install git+https://github.com/pyg-team/pytorch_geometric.git'"
      ]
     },
     "execution_count": 1,
     "metadata": {},
     "output_type": "execute_result"
    }
   ],
   "source": [
    "\"\"\"!pip3 install fcapy[all]\n",
    "!pip3 install frozendict\n",
    "!pip3 install ipynb\n",
    "!pip3 install sparselinear\n",
    "!pip3 install bitsets\n",
    "!pip3 install bitarray\n",
    "import torch\n",
    "!pip3 install torch-scatter -f https://data.pyg.org/whl/torch-2.0.0+cuda118.html\n",
    "!pip3 install torch-sparse -f https://data.pyg.org/whl/torch-2.0.0+cuda118.html\n",
    "!pip3 install torch-cluster -f https://data.pyg.org/whl/torch-2.0.0+cuda118.html\n",
    "!pip3 install git+https://github.com/pyg-team/pytorch_geometric.git\"\"\""
   ]
  },
  {
   "cell_type": "markdown",
   "metadata": {
    "id": "3v12S4V2u8J0"
   },
   "source": [
    "# Import libs"
   ]
  },
  {
   "cell_type": "code",
   "execution_count": 2,
   "metadata": {
    "id": "dUEvmHBsu8J0"
   },
   "outputs": [],
   "source": [
    "import numpy as np\n",
    "import pandas as pd"
   ]
  },
  {
   "cell_type": "code",
   "execution_count": 3,
   "metadata": {
    "id": "TLvzJls4u8J2"
   },
   "outputs": [
    {
     "name": "stderr",
     "output_type": "stream",
     "text": [
      "/Users/brtshohin/Library/Python/3.9/lib/python/site-packages/tqdm/auto.py:21: TqdmWarning: IProgress not found. Please update jupyter and ipywidgets. See https://ipywidgets.readthedocs.io/en/stable/user_install.html\n",
      "  from .autonotebook import tqdm as notebook_tqdm\n"
     ]
    }
   ],
   "source": [
    "from fcapy.context import FormalContext\n",
    "from fcapy.lattice import ConceptLattice"
   ]
  },
  {
   "cell_type": "code",
   "execution_count": 4,
   "metadata": {
    "id": "dh6ROPg2u8J3"
   },
   "outputs": [],
   "source": [
    "from fcapy.visualizer import LineVizNx\n",
    "import matplotlib.pyplot as plt\n",
    "\n",
    "plt.rcParams['figure.facecolor'] = (1,1,1,1)"
   ]
  },
  {
   "cell_type": "code",
   "execution_count": 5,
   "metadata": {
    "id": "6CreHYwWu8J3"
   },
   "outputs": [],
   "source": [
    "import neural_lib as nl"
   ]
  },
  {
   "cell_type": "code",
   "execution_count": 6,
   "metadata": {
    "colab": {
     "base_uri": "https://localhost:8080/",
     "height": 237
    },
    "id": "sB1UqaW_u8J3",
    "outputId": "863a82d3-f3e9-49f6-b569-079be9ee7b86"
   },
   "outputs": [
    {
     "data": {
      "text/html": [
       "<div>\n",
       "<style scoped>\n",
       "    .dataframe tbody tr th:only-of-type {\n",
       "        vertical-align: middle;\n",
       "    }\n",
       "\n",
       "    .dataframe tbody tr th {\n",
       "        vertical-align: top;\n",
       "    }\n",
       "\n",
       "    .dataframe thead th {\n",
       "        text-align: right;\n",
       "    }\n",
       "</style>\n",
       "<table border=\"1\" class=\"dataframe\">\n",
       "  <thead>\n",
       "    <tr style=\"text-align: right;\">\n",
       "      <th></th>\n",
       "      <th>Warehouse_block</th>\n",
       "      <th>Mode_of_Shipment</th>\n",
       "      <th>Customer_care_calls</th>\n",
       "      <th>Customer_rating</th>\n",
       "      <th>Cost_of_the_Product</th>\n",
       "      <th>Prior_purchases</th>\n",
       "      <th>Product_importance</th>\n",
       "      <th>Gender</th>\n",
       "      <th>Discount_offered</th>\n",
       "      <th>Weight_in_gms</th>\n",
       "      <th>Reached.on.Time_Y.N</th>\n",
       "    </tr>\n",
       "    <tr>\n",
       "      <th>ID</th>\n",
       "      <th></th>\n",
       "      <th></th>\n",
       "      <th></th>\n",
       "      <th></th>\n",
       "      <th></th>\n",
       "      <th></th>\n",
       "      <th></th>\n",
       "      <th></th>\n",
       "      <th></th>\n",
       "      <th></th>\n",
       "      <th></th>\n",
       "    </tr>\n",
       "  </thead>\n",
       "  <tbody>\n",
       "    <tr>\n",
       "      <th>1</th>\n",
       "      <td>D</td>\n",
       "      <td>Flight</td>\n",
       "      <td>4</td>\n",
       "      <td>2</td>\n",
       "      <td>177</td>\n",
       "      <td>3</td>\n",
       "      <td>low</td>\n",
       "      <td>F</td>\n",
       "      <td>44</td>\n",
       "      <td>1233</td>\n",
       "      <td>1</td>\n",
       "    </tr>\n",
       "    <tr>\n",
       "      <th>2</th>\n",
       "      <td>F</td>\n",
       "      <td>Flight</td>\n",
       "      <td>4</td>\n",
       "      <td>5</td>\n",
       "      <td>216</td>\n",
       "      <td>2</td>\n",
       "      <td>low</td>\n",
       "      <td>M</td>\n",
       "      <td>59</td>\n",
       "      <td>3088</td>\n",
       "      <td>1</td>\n",
       "    </tr>\n",
       "    <tr>\n",
       "      <th>3</th>\n",
       "      <td>A</td>\n",
       "      <td>Flight</td>\n",
       "      <td>2</td>\n",
       "      <td>2</td>\n",
       "      <td>183</td>\n",
       "      <td>4</td>\n",
       "      <td>low</td>\n",
       "      <td>M</td>\n",
       "      <td>48</td>\n",
       "      <td>3374</td>\n",
       "      <td>1</td>\n",
       "    </tr>\n",
       "    <tr>\n",
       "      <th>4</th>\n",
       "      <td>B</td>\n",
       "      <td>Flight</td>\n",
       "      <td>3</td>\n",
       "      <td>3</td>\n",
       "      <td>176</td>\n",
       "      <td>4</td>\n",
       "      <td>medium</td>\n",
       "      <td>M</td>\n",
       "      <td>10</td>\n",
       "      <td>1177</td>\n",
       "      <td>1</td>\n",
       "    </tr>\n",
       "    <tr>\n",
       "      <th>5</th>\n",
       "      <td>C</td>\n",
       "      <td>Flight</td>\n",
       "      <td>2</td>\n",
       "      <td>2</td>\n",
       "      <td>184</td>\n",
       "      <td>3</td>\n",
       "      <td>medium</td>\n",
       "      <td>F</td>\n",
       "      <td>46</td>\n",
       "      <td>2484</td>\n",
       "      <td>1</td>\n",
       "    </tr>\n",
       "  </tbody>\n",
       "</table>\n",
       "</div>"
      ],
      "text/plain": [
       "   Warehouse_block Mode_of_Shipment  Customer_care_calls  Customer_rating  \\\n",
       "ID                                                                          \n",
       "1                D           Flight                    4                2   \n",
       "2                F           Flight                    4                5   \n",
       "3                A           Flight                    2                2   \n",
       "4                B           Flight                    3                3   \n",
       "5                C           Flight                    2                2   \n",
       "\n",
       "    Cost_of_the_Product  Prior_purchases Product_importance Gender  \\\n",
       "ID                                                                   \n",
       "1                   177                3                low      F   \n",
       "2                   216                2                low      M   \n",
       "3                   183                4                low      M   \n",
       "4                   176                4             medium      M   \n",
       "5                   184                3             medium      F   \n",
       "\n",
       "    Discount_offered  Weight_in_gms  Reached.on.Time_Y.N  \n",
       "ID                                                        \n",
       "1                 44           1233                    1  \n",
       "2                 59           3088                    1  \n",
       "3                 48           3374                    1  \n",
       "4                 10           1177                    1  \n",
       "5                 46           2484                    1  "
      ]
     },
     "execution_count": 6,
     "metadata": {},
     "output_type": "execute_result"
    }
   ],
   "source": [
    "df = pd.read_csv('./data.csv', index_col=0)\n",
    "df.head()"
   ]
  },
  {
   "cell_type": "code",
   "execution_count": 7,
   "metadata": {},
   "outputs": [
    {
     "data": {
      "text/plain": [
       "(10999, 11)"
      ]
     },
     "execution_count": 7,
     "metadata": {},
     "output_type": "execute_result"
    }
   ],
   "source": [
    "df.shape"
   ]
  },
  {
   "cell_type": "markdown",
   "metadata": {
    "id": "de8PEof6u8J5"
   },
   "source": [
    "# Pipeline"
   ]
  },
  {
   "cell_type": "markdown",
   "metadata": {
    "id": "Joqy7QCNu8J5"
   },
   "source": [
    "# Step 0. Binarize the data"
   ]
  },
  {
   "cell_type": "code",
   "execution_count": 8,
   "metadata": {},
   "outputs": [],
   "source": [
    "def bin_num_column(df_bin, col, start, finish, step):\n",
    "    for i in range(start, finish, step):\n",
    "        df_bin[col+'('+str(i) + ';' + str(i+step) + ']'] = (df[col] >i ) & (df[col] <= (i+step))"
   ]
  },
  {
   "cell_type": "code",
   "execution_count": 9,
   "metadata": {},
   "outputs": [],
   "source": [
    "def bin_cat_column(df_bin, col, cats):\n",
    "    for i in cats:\n",
    "        df_bin[col+str(i)] = df[col] == i"
   ]
  },
  {
   "cell_type": "code",
   "execution_count": 10,
   "metadata": {
    "id": "QHv87ygJu8J5"
   },
   "outputs": [
    {
     "data": {
      "text/html": [
       "<div>\n",
       "<style scoped>\n",
       "    .dataframe tbody tr th:only-of-type {\n",
       "        vertical-align: middle;\n",
       "    }\n",
       "\n",
       "    .dataframe tbody tr th {\n",
       "        vertical-align: top;\n",
       "    }\n",
       "\n",
       "    .dataframe thead th {\n",
       "        text-align: right;\n",
       "    }\n",
       "</style>\n",
       "<table border=\"1\" class=\"dataframe\">\n",
       "  <thead>\n",
       "    <tr style=\"text-align: right;\">\n",
       "      <th></th>\n",
       "      <th>Warehouse_blockD</th>\n",
       "      <th>Warehouse_blockF</th>\n",
       "      <th>Warehouse_blockA</th>\n",
       "      <th>Warehouse_blockB</th>\n",
       "      <th>Warehouse_blockC</th>\n",
       "      <th>Warehouse_blockFlight</th>\n",
       "      <th>Warehouse_blockShip</th>\n",
       "      <th>Warehouse_blockRoad</th>\n",
       "      <th>Customer_care_calls(2;4]</th>\n",
       "      <th>Customer_care_calls(4;6]</th>\n",
       "      <th>...</th>\n",
       "      <th>Cost_of_the_Product(96;496]</th>\n",
       "      <th>Product_importancelow</th>\n",
       "      <th>Product_importancemedium</th>\n",
       "      <th>Product_importancehigh</th>\n",
       "      <th>Discount_offered(1;21]</th>\n",
       "      <th>Discount_offered(21;41]</th>\n",
       "      <th>Discount_offered(41;61]</th>\n",
       "      <th>Discount_offered(61;81]</th>\n",
       "      <th>Weight_in_gms(1000;6000]</th>\n",
       "      <th>Weight_in_gms(6000;11000]</th>\n",
       "    </tr>\n",
       "    <tr>\n",
       "      <th>ID</th>\n",
       "      <th></th>\n",
       "      <th></th>\n",
       "      <th></th>\n",
       "      <th></th>\n",
       "      <th></th>\n",
       "      <th></th>\n",
       "      <th></th>\n",
       "      <th></th>\n",
       "      <th></th>\n",
       "      <th></th>\n",
       "      <th></th>\n",
       "      <th></th>\n",
       "      <th></th>\n",
       "      <th></th>\n",
       "      <th></th>\n",
       "      <th></th>\n",
       "      <th></th>\n",
       "      <th></th>\n",
       "      <th></th>\n",
       "      <th></th>\n",
       "      <th></th>\n",
       "    </tr>\n",
       "  </thead>\n",
       "  <tbody>\n",
       "    <tr>\n",
       "      <th>1</th>\n",
       "      <td>True</td>\n",
       "      <td>False</td>\n",
       "      <td>False</td>\n",
       "      <td>False</td>\n",
       "      <td>False</td>\n",
       "      <td>False</td>\n",
       "      <td>False</td>\n",
       "      <td>False</td>\n",
       "      <td>True</td>\n",
       "      <td>False</td>\n",
       "      <td>...</td>\n",
       "      <td>True</td>\n",
       "      <td>True</td>\n",
       "      <td>False</td>\n",
       "      <td>False</td>\n",
       "      <td>False</td>\n",
       "      <td>False</td>\n",
       "      <td>True</td>\n",
       "      <td>False</td>\n",
       "      <td>True</td>\n",
       "      <td>False</td>\n",
       "    </tr>\n",
       "    <tr>\n",
       "      <th>2</th>\n",
       "      <td>False</td>\n",
       "      <td>True</td>\n",
       "      <td>False</td>\n",
       "      <td>False</td>\n",
       "      <td>False</td>\n",
       "      <td>False</td>\n",
       "      <td>False</td>\n",
       "      <td>False</td>\n",
       "      <td>True</td>\n",
       "      <td>False</td>\n",
       "      <td>...</td>\n",
       "      <td>True</td>\n",
       "      <td>True</td>\n",
       "      <td>False</td>\n",
       "      <td>False</td>\n",
       "      <td>False</td>\n",
       "      <td>False</td>\n",
       "      <td>True</td>\n",
       "      <td>False</td>\n",
       "      <td>True</td>\n",
       "      <td>False</td>\n",
       "    </tr>\n",
       "    <tr>\n",
       "      <th>3</th>\n",
       "      <td>False</td>\n",
       "      <td>False</td>\n",
       "      <td>True</td>\n",
       "      <td>False</td>\n",
       "      <td>False</td>\n",
       "      <td>False</td>\n",
       "      <td>False</td>\n",
       "      <td>False</td>\n",
       "      <td>False</td>\n",
       "      <td>False</td>\n",
       "      <td>...</td>\n",
       "      <td>True</td>\n",
       "      <td>True</td>\n",
       "      <td>False</td>\n",
       "      <td>False</td>\n",
       "      <td>False</td>\n",
       "      <td>False</td>\n",
       "      <td>True</td>\n",
       "      <td>False</td>\n",
       "      <td>True</td>\n",
       "      <td>False</td>\n",
       "    </tr>\n",
       "    <tr>\n",
       "      <th>4</th>\n",
       "      <td>False</td>\n",
       "      <td>False</td>\n",
       "      <td>False</td>\n",
       "      <td>True</td>\n",
       "      <td>False</td>\n",
       "      <td>False</td>\n",
       "      <td>False</td>\n",
       "      <td>False</td>\n",
       "      <td>True</td>\n",
       "      <td>False</td>\n",
       "      <td>...</td>\n",
       "      <td>True</td>\n",
       "      <td>False</td>\n",
       "      <td>True</td>\n",
       "      <td>False</td>\n",
       "      <td>True</td>\n",
       "      <td>False</td>\n",
       "      <td>False</td>\n",
       "      <td>False</td>\n",
       "      <td>True</td>\n",
       "      <td>False</td>\n",
       "    </tr>\n",
       "    <tr>\n",
       "      <th>5</th>\n",
       "      <td>False</td>\n",
       "      <td>False</td>\n",
       "      <td>False</td>\n",
       "      <td>False</td>\n",
       "      <td>True</td>\n",
       "      <td>False</td>\n",
       "      <td>False</td>\n",
       "      <td>False</td>\n",
       "      <td>False</td>\n",
       "      <td>False</td>\n",
       "      <td>...</td>\n",
       "      <td>True</td>\n",
       "      <td>False</td>\n",
       "      <td>True</td>\n",
       "      <td>False</td>\n",
       "      <td>False</td>\n",
       "      <td>False</td>\n",
       "      <td>True</td>\n",
       "      <td>False</td>\n",
       "      <td>True</td>\n",
       "      <td>False</td>\n",
       "    </tr>\n",
       "  </tbody>\n",
       "</table>\n",
       "<p>5 rows × 21 columns</p>\n",
       "</div>"
      ],
      "text/plain": [
       "    Warehouse_blockD  Warehouse_blockF  Warehouse_blockA  Warehouse_blockB  \\\n",
       "ID                                                                           \n",
       "1               True             False             False             False   \n",
       "2              False              True             False             False   \n",
       "3              False             False              True             False   \n",
       "4              False             False             False              True   \n",
       "5              False             False             False             False   \n",
       "\n",
       "    Warehouse_blockC  Warehouse_blockFlight  Warehouse_blockShip  \\\n",
       "ID                                                                 \n",
       "1              False                  False                False   \n",
       "2              False                  False                False   \n",
       "3              False                  False                False   \n",
       "4              False                  False                False   \n",
       "5               True                  False                False   \n",
       "\n",
       "    Warehouse_blockRoad  Customer_care_calls(2;4]  Customer_care_calls(4;6]  \\\n",
       "ID                                                                            \n",
       "1                 False                      True                     False   \n",
       "2                 False                      True                     False   \n",
       "3                 False                     False                     False   \n",
       "4                 False                      True                     False   \n",
       "5                 False                     False                     False   \n",
       "\n",
       "    ...  Cost_of_the_Product(96;496]  Product_importancelow  \\\n",
       "ID  ...                                                       \n",
       "1   ...                         True                   True   \n",
       "2   ...                         True                   True   \n",
       "3   ...                         True                   True   \n",
       "4   ...                         True                  False   \n",
       "5   ...                         True                  False   \n",
       "\n",
       "    Product_importancemedium  Product_importancehigh  Discount_offered(1;21]  \\\n",
       "ID                                                                             \n",
       "1                      False                   False                   False   \n",
       "2                      False                   False                   False   \n",
       "3                      False                   False                   False   \n",
       "4                       True                   False                    True   \n",
       "5                       True                   False                   False   \n",
       "\n",
       "    Discount_offered(21;41]  Discount_offered(41;61]  Discount_offered(61;81]  \\\n",
       "ID                                                                              \n",
       "1                     False                     True                    False   \n",
       "2                     False                     True                    False   \n",
       "3                     False                     True                    False   \n",
       "4                     False                    False                    False   \n",
       "5                     False                     True                    False   \n",
       "\n",
       "    Weight_in_gms(1000;6000]  Weight_in_gms(6000;11000]  \n",
       "ID                                                       \n",
       "1                       True                      False  \n",
       "2                       True                      False  \n",
       "3                       True                      False  \n",
       "4                       True                      False  \n",
       "5                       True                      False  \n",
       "\n",
       "[5 rows x 21 columns]"
      ]
     },
     "execution_count": 10,
     "metadata": {},
     "output_type": "execute_result"
    }
   ],
   "source": [
    "df_bin = pd.DataFrame()\n",
    "bin_cat_column(df_bin, 'Warehouse_block', ['D', 'F', 'A', 'B', 'C'])\n",
    "bin_cat_column(df_bin, 'Warehouse_block', ['Flight', 'Ship', 'Road'])\n",
    "bin_num_column(df_bin, 'Customer_care_calls', 2, 7, 2)\n",
    "# bin_num_column(df_bin, 'Customer_care_calls', 1, 5, 3)\n",
    "bin_num_column(df_bin, 'Cost_of_the_Product', 96, 310, 400)\n",
    "# bin_num_column(df_bin, 'Prior_purchases', 2, 10, 3)\n",
    "bin_cat_column(df_bin, 'Product_importance', ['low', 'medium', 'high'])\n",
    "# bin_cat_column(df_bin, 'Gender', ['M', 'F'])\n",
    "bin_num_column(df_bin, 'Discount_offered', 1, 65, 20)\n",
    "bin_num_column(df_bin, 'Weight_in_gms', 1000, 8000, 5000)\n",
    "df_bin.head()"
   ]
  },
  {
   "cell_type": "code",
   "execution_count": 11,
   "metadata": {},
   "outputs": [
    {
     "data": {
      "text/html": [
       "<div>\n",
       "<style scoped>\n",
       "    .dataframe tbody tr th:only-of-type {\n",
       "        vertical-align: middle;\n",
       "    }\n",
       "\n",
       "    .dataframe tbody tr th {\n",
       "        vertical-align: top;\n",
       "    }\n",
       "\n",
       "    .dataframe thead th {\n",
       "        text-align: right;\n",
       "    }\n",
       "</style>\n",
       "<table border=\"1\" class=\"dataframe\">\n",
       "  <thead>\n",
       "    <tr style=\"text-align: right;\">\n",
       "      <th></th>\n",
       "      <th>Warehouse_blockD</th>\n",
       "      <th>Warehouse_blockF</th>\n",
       "      <th>Warehouse_blockA</th>\n",
       "      <th>Warehouse_blockB</th>\n",
       "      <th>Warehouse_blockC</th>\n",
       "      <th>Warehouse_blockFlight</th>\n",
       "      <th>Warehouse_blockShip</th>\n",
       "      <th>Warehouse_blockRoad</th>\n",
       "      <th>Customer_care_calls(2;4]</th>\n",
       "      <th>Customer_care_calls(4;6]</th>\n",
       "      <th>...</th>\n",
       "      <th>Product_importancelow</th>\n",
       "      <th>Product_importancemedium</th>\n",
       "      <th>Product_importancehigh</th>\n",
       "      <th>Discount_offered(1;21]</th>\n",
       "      <th>Discount_offered(21;41]</th>\n",
       "      <th>Discount_offered(41;61]</th>\n",
       "      <th>Discount_offered(61;81]</th>\n",
       "      <th>Weight_in_gms(1000;6000]</th>\n",
       "      <th>Weight_in_gms(6000;11000]</th>\n",
       "      <th>Reached_on_time</th>\n",
       "    </tr>\n",
       "    <tr>\n",
       "      <th>ID</th>\n",
       "      <th></th>\n",
       "      <th></th>\n",
       "      <th></th>\n",
       "      <th></th>\n",
       "      <th></th>\n",
       "      <th></th>\n",
       "      <th></th>\n",
       "      <th></th>\n",
       "      <th></th>\n",
       "      <th></th>\n",
       "      <th></th>\n",
       "      <th></th>\n",
       "      <th></th>\n",
       "      <th></th>\n",
       "      <th></th>\n",
       "      <th></th>\n",
       "      <th></th>\n",
       "      <th></th>\n",
       "      <th></th>\n",
       "      <th></th>\n",
       "      <th></th>\n",
       "    </tr>\n",
       "  </thead>\n",
       "  <tbody>\n",
       "    <tr>\n",
       "      <th>1</th>\n",
       "      <td>True</td>\n",
       "      <td>False</td>\n",
       "      <td>False</td>\n",
       "      <td>False</td>\n",
       "      <td>False</td>\n",
       "      <td>False</td>\n",
       "      <td>False</td>\n",
       "      <td>False</td>\n",
       "      <td>True</td>\n",
       "      <td>False</td>\n",
       "      <td>...</td>\n",
       "      <td>True</td>\n",
       "      <td>False</td>\n",
       "      <td>False</td>\n",
       "      <td>False</td>\n",
       "      <td>False</td>\n",
       "      <td>True</td>\n",
       "      <td>False</td>\n",
       "      <td>True</td>\n",
       "      <td>False</td>\n",
       "      <td>False</td>\n",
       "    </tr>\n",
       "    <tr>\n",
       "      <th>2</th>\n",
       "      <td>False</td>\n",
       "      <td>True</td>\n",
       "      <td>False</td>\n",
       "      <td>False</td>\n",
       "      <td>False</td>\n",
       "      <td>False</td>\n",
       "      <td>False</td>\n",
       "      <td>False</td>\n",
       "      <td>True</td>\n",
       "      <td>False</td>\n",
       "      <td>...</td>\n",
       "      <td>True</td>\n",
       "      <td>False</td>\n",
       "      <td>False</td>\n",
       "      <td>False</td>\n",
       "      <td>False</td>\n",
       "      <td>True</td>\n",
       "      <td>False</td>\n",
       "      <td>True</td>\n",
       "      <td>False</td>\n",
       "      <td>False</td>\n",
       "    </tr>\n",
       "    <tr>\n",
       "      <th>3</th>\n",
       "      <td>False</td>\n",
       "      <td>False</td>\n",
       "      <td>True</td>\n",
       "      <td>False</td>\n",
       "      <td>False</td>\n",
       "      <td>False</td>\n",
       "      <td>False</td>\n",
       "      <td>False</td>\n",
       "      <td>False</td>\n",
       "      <td>False</td>\n",
       "      <td>...</td>\n",
       "      <td>True</td>\n",
       "      <td>False</td>\n",
       "      <td>False</td>\n",
       "      <td>False</td>\n",
       "      <td>False</td>\n",
       "      <td>True</td>\n",
       "      <td>False</td>\n",
       "      <td>True</td>\n",
       "      <td>False</td>\n",
       "      <td>False</td>\n",
       "    </tr>\n",
       "    <tr>\n",
       "      <th>4</th>\n",
       "      <td>False</td>\n",
       "      <td>False</td>\n",
       "      <td>False</td>\n",
       "      <td>True</td>\n",
       "      <td>False</td>\n",
       "      <td>False</td>\n",
       "      <td>False</td>\n",
       "      <td>False</td>\n",
       "      <td>True</td>\n",
       "      <td>False</td>\n",
       "      <td>...</td>\n",
       "      <td>False</td>\n",
       "      <td>True</td>\n",
       "      <td>False</td>\n",
       "      <td>True</td>\n",
       "      <td>False</td>\n",
       "      <td>False</td>\n",
       "      <td>False</td>\n",
       "      <td>True</td>\n",
       "      <td>False</td>\n",
       "      <td>False</td>\n",
       "    </tr>\n",
       "    <tr>\n",
       "      <th>5</th>\n",
       "      <td>False</td>\n",
       "      <td>False</td>\n",
       "      <td>False</td>\n",
       "      <td>False</td>\n",
       "      <td>True</td>\n",
       "      <td>False</td>\n",
       "      <td>False</td>\n",
       "      <td>False</td>\n",
       "      <td>False</td>\n",
       "      <td>False</td>\n",
       "      <td>...</td>\n",
       "      <td>False</td>\n",
       "      <td>True</td>\n",
       "      <td>False</td>\n",
       "      <td>False</td>\n",
       "      <td>False</td>\n",
       "      <td>True</td>\n",
       "      <td>False</td>\n",
       "      <td>True</td>\n",
       "      <td>False</td>\n",
       "      <td>False</td>\n",
       "    </tr>\n",
       "  </tbody>\n",
       "</table>\n",
       "<p>5 rows × 22 columns</p>\n",
       "</div>"
      ],
      "text/plain": [
       "    Warehouse_blockD  Warehouse_blockF  Warehouse_blockA  Warehouse_blockB  \\\n",
       "ID                                                                           \n",
       "1               True             False             False             False   \n",
       "2              False              True             False             False   \n",
       "3              False             False              True             False   \n",
       "4              False             False             False              True   \n",
       "5              False             False             False             False   \n",
       "\n",
       "    Warehouse_blockC  Warehouse_blockFlight  Warehouse_blockShip  \\\n",
       "ID                                                                 \n",
       "1              False                  False                False   \n",
       "2              False                  False                False   \n",
       "3              False                  False                False   \n",
       "4              False                  False                False   \n",
       "5               True                  False                False   \n",
       "\n",
       "    Warehouse_blockRoad  Customer_care_calls(2;4]  Customer_care_calls(4;6]  \\\n",
       "ID                                                                            \n",
       "1                 False                      True                     False   \n",
       "2                 False                      True                     False   \n",
       "3                 False                     False                     False   \n",
       "4                 False                      True                     False   \n",
       "5                 False                     False                     False   \n",
       "\n",
       "    ...  Product_importancelow  Product_importancemedium  \\\n",
       "ID  ...                                                    \n",
       "1   ...                   True                     False   \n",
       "2   ...                   True                     False   \n",
       "3   ...                   True                     False   \n",
       "4   ...                  False                      True   \n",
       "5   ...                  False                      True   \n",
       "\n",
       "    Product_importancehigh  Discount_offered(1;21]  Discount_offered(21;41]  \\\n",
       "ID                                                                            \n",
       "1                    False                   False                    False   \n",
       "2                    False                   False                    False   \n",
       "3                    False                   False                    False   \n",
       "4                    False                    True                    False   \n",
       "5                    False                   False                    False   \n",
       "\n",
       "    Discount_offered(41;61]  Discount_offered(61;81]  \\\n",
       "ID                                                     \n",
       "1                      True                    False   \n",
       "2                      True                    False   \n",
       "3                      True                    False   \n",
       "4                     False                    False   \n",
       "5                      True                    False   \n",
       "\n",
       "    Weight_in_gms(1000;6000]  Weight_in_gms(6000;11000]  Reached_on_time  \n",
       "ID                                                                        \n",
       "1                       True                      False            False  \n",
       "2                       True                      False            False  \n",
       "3                       True                      False            False  \n",
       "4                       True                      False            False  \n",
       "5                       True                      False            False  \n",
       "\n",
       "[5 rows x 22 columns]"
      ]
     },
     "execution_count": 11,
     "metadata": {},
     "output_type": "execute_result"
    }
   ],
   "source": [
    "df_bin['Reached_on_time'] = df['Reached.on.Time_Y.N'] == 0\n",
    "df_bin.head()"
   ]
  },
  {
   "cell_type": "code",
   "execution_count": 12,
   "metadata": {},
   "outputs": [
    {
     "data": {
      "text/html": [
       "<div>\n",
       "<style scoped>\n",
       "    .dataframe tbody tr th:only-of-type {\n",
       "        vertical-align: middle;\n",
       "    }\n",
       "\n",
       "    .dataframe tbody tr th {\n",
       "        vertical-align: top;\n",
       "    }\n",
       "\n",
       "    .dataframe thead th {\n",
       "        text-align: right;\n",
       "    }\n",
       "</style>\n",
       "<table border=\"1\" class=\"dataframe\">\n",
       "  <thead>\n",
       "    <tr style=\"text-align: right;\">\n",
       "      <th></th>\n",
       "      <th>Warehouse_blockD</th>\n",
       "      <th>Warehouse_blockF</th>\n",
       "      <th>Warehouse_blockA</th>\n",
       "      <th>Warehouse_blockB</th>\n",
       "      <th>Warehouse_blockC</th>\n",
       "      <th>Warehouse_blockFlight</th>\n",
       "      <th>Warehouse_blockShip</th>\n",
       "      <th>Warehouse_blockRoad</th>\n",
       "      <th>Customer_care_calls(2;4]</th>\n",
       "      <th>Customer_care_calls(4;6]</th>\n",
       "      <th>...</th>\n",
       "      <th>Product_importancelow</th>\n",
       "      <th>Product_importancemedium</th>\n",
       "      <th>Product_importancehigh</th>\n",
       "      <th>Discount_offered(1;21]</th>\n",
       "      <th>Discount_offered(21;41]</th>\n",
       "      <th>Discount_offered(41;61]</th>\n",
       "      <th>Discount_offered(61;81]</th>\n",
       "      <th>Weight_in_gms(1000;6000]</th>\n",
       "      <th>Weight_in_gms(6000;11000]</th>\n",
       "      <th>Reached_on_time</th>\n",
       "    </tr>\n",
       "    <tr>\n",
       "      <th>id</th>\n",
       "      <th></th>\n",
       "      <th></th>\n",
       "      <th></th>\n",
       "      <th></th>\n",
       "      <th></th>\n",
       "      <th></th>\n",
       "      <th></th>\n",
       "      <th></th>\n",
       "      <th></th>\n",
       "      <th></th>\n",
       "      <th></th>\n",
       "      <th></th>\n",
       "      <th></th>\n",
       "      <th></th>\n",
       "      <th></th>\n",
       "      <th></th>\n",
       "      <th></th>\n",
       "      <th></th>\n",
       "      <th></th>\n",
       "      <th></th>\n",
       "      <th></th>\n",
       "    </tr>\n",
       "  </thead>\n",
       "  <tbody>\n",
       "    <tr>\n",
       "      <th>h7222</th>\n",
       "      <td>False</td>\n",
       "      <td>False</td>\n",
       "      <td>False</td>\n",
       "      <td>False</td>\n",
       "      <td>True</td>\n",
       "      <td>False</td>\n",
       "      <td>False</td>\n",
       "      <td>False</td>\n",
       "      <td>True</td>\n",
       "      <td>False</td>\n",
       "      <td>...</td>\n",
       "      <td>True</td>\n",
       "      <td>False</td>\n",
       "      <td>False</td>\n",
       "      <td>True</td>\n",
       "      <td>False</td>\n",
       "      <td>False</td>\n",
       "      <td>False</td>\n",
       "      <td>True</td>\n",
       "      <td>False</td>\n",
       "      <td>True</td>\n",
       "    </tr>\n",
       "  </tbody>\n",
       "</table>\n",
       "<p>1 rows × 22 columns</p>\n",
       "</div>"
      ],
      "text/plain": [
       "       Warehouse_blockD  Warehouse_blockF  Warehouse_blockA  Warehouse_blockB  \\\n",
       "id                                                                              \n",
       "h7222             False             False             False             False   \n",
       "\n",
       "       Warehouse_blockC  Warehouse_blockFlight  Warehouse_blockShip  \\\n",
       "id                                                                    \n",
       "h7222              True                  False                False   \n",
       "\n",
       "       Warehouse_blockRoad  Customer_care_calls(2;4]  \\\n",
       "id                                                     \n",
       "h7222                False                      True   \n",
       "\n",
       "       Customer_care_calls(4;6]  ...  Product_importancelow  \\\n",
       "id                               ...                          \n",
       "h7222                     False  ...                   True   \n",
       "\n",
       "       Product_importancemedium  Product_importancehigh  \\\n",
       "id                                                        \n",
       "h7222                     False                   False   \n",
       "\n",
       "       Discount_offered(1;21]  Discount_offered(21;41]  \\\n",
       "id                                                       \n",
       "h7222                    True                    False   \n",
       "\n",
       "       Discount_offered(41;61]  Discount_offered(61;81]  \\\n",
       "id                                                        \n",
       "h7222                    False                    False   \n",
       "\n",
       "       Weight_in_gms(1000;6000]  Weight_in_gms(6000;11000]  Reached_on_time  \n",
       "id                                                                           \n",
       "h7222                      True                      False             True  \n",
       "\n",
       "[1 rows x 22 columns]"
      ]
     },
     "execution_count": 12,
     "metadata": {},
     "output_type": "execute_result"
    }
   ],
   "source": [
    "df_bin['sample_id'] = np.arange(0, df_bin.shape[0], 1).astype(str)\n",
    "df_bin['id'] = df_bin['sample_id'].apply(lambda x: 'h' + x)\n",
    "df_bin.drop(columns=['sample_id'], inplace=True)\n",
    "df_bin=df_bin.set_index('id')\n",
    "df_bin.sample()"
   ]
  },
  {
   "cell_type": "code",
   "execution_count": 13,
   "metadata": {},
   "outputs": [
    {
     "data": {
      "text/plain": [
       "(10999, 22)"
      ]
     },
     "execution_count": 13,
     "metadata": {},
     "output_type": "execute_result"
    }
   ],
   "source": [
    "df_bin.shape"
   ]
  },
  {
   "cell_type": "markdown",
   "metadata": {
    "id": "OgvmQkGnu8J6"
   },
   "source": [
    "Split the data to train and test"
   ]
  },
  {
   "cell_type": "code",
   "execution_count": 14,
   "metadata": {},
   "outputs": [],
   "source": [
    "from sklearn.model_selection import train_test_split\n",
    "from sklearn.metrics import f1_score, recall_score, accuracy_score, classification_report"
   ]
  },
  {
   "cell_type": "code",
   "execution_count": 15,
   "metadata": {},
   "outputs": [],
   "source": [
    "y_feat = 'Reached_on_time'\n",
    "df_train, df_test = train_test_split(df_bin, train_size=0.7, random_state=0)"
   ]
  },
  {
   "cell_type": "code",
   "execution_count": 16,
   "metadata": {},
   "outputs": [],
   "source": [
    "X_train, y_train = df_train.drop(y_feat, axis=1), df_train[y_feat]\n",
    "X_test, y_test = df_test.drop(y_feat, axis=1), df_test[y_feat]"
   ]
  },
  {
   "cell_type": "code",
   "execution_count": 17,
   "metadata": {},
   "outputs": [
    {
     "data": {
      "text/html": [
       "<div>\n",
       "<style scoped>\n",
       "    .dataframe tbody tr th:only-of-type {\n",
       "        vertical-align: middle;\n",
       "    }\n",
       "\n",
       "    .dataframe tbody tr th {\n",
       "        vertical-align: top;\n",
       "    }\n",
       "\n",
       "    .dataframe thead th {\n",
       "        text-align: right;\n",
       "    }\n",
       "</style>\n",
       "<table border=\"1\" class=\"dataframe\">\n",
       "  <thead>\n",
       "    <tr style=\"text-align: right;\">\n",
       "      <th></th>\n",
       "      <th>Warehouse_blockD</th>\n",
       "      <th>Warehouse_blockF</th>\n",
       "      <th>Warehouse_blockA</th>\n",
       "      <th>Warehouse_blockB</th>\n",
       "      <th>Warehouse_blockC</th>\n",
       "      <th>Warehouse_blockFlight</th>\n",
       "      <th>Warehouse_blockShip</th>\n",
       "      <th>Warehouse_blockRoad</th>\n",
       "      <th>Customer_care_calls(2;4]</th>\n",
       "      <th>Customer_care_calls(4;6]</th>\n",
       "      <th>...</th>\n",
       "      <th>Cost_of_the_Product(96;496]</th>\n",
       "      <th>Product_importancelow</th>\n",
       "      <th>Product_importancemedium</th>\n",
       "      <th>Product_importancehigh</th>\n",
       "      <th>Discount_offered(1;21]</th>\n",
       "      <th>Discount_offered(21;41]</th>\n",
       "      <th>Discount_offered(41;61]</th>\n",
       "      <th>Discount_offered(61;81]</th>\n",
       "      <th>Weight_in_gms(1000;6000]</th>\n",
       "      <th>Weight_in_gms(6000;11000]</th>\n",
       "    </tr>\n",
       "    <tr>\n",
       "      <th>id</th>\n",
       "      <th></th>\n",
       "      <th></th>\n",
       "      <th></th>\n",
       "      <th></th>\n",
       "      <th></th>\n",
       "      <th></th>\n",
       "      <th></th>\n",
       "      <th></th>\n",
       "      <th></th>\n",
       "      <th></th>\n",
       "      <th></th>\n",
       "      <th></th>\n",
       "      <th></th>\n",
       "      <th></th>\n",
       "      <th></th>\n",
       "      <th></th>\n",
       "      <th></th>\n",
       "      <th></th>\n",
       "      <th></th>\n",
       "      <th></th>\n",
       "      <th></th>\n",
       "    </tr>\n",
       "  </thead>\n",
       "  <tbody>\n",
       "    <tr>\n",
       "      <th>h9713</th>\n",
       "      <td>False</td>\n",
       "      <td>True</td>\n",
       "      <td>False</td>\n",
       "      <td>False</td>\n",
       "      <td>False</td>\n",
       "      <td>False</td>\n",
       "      <td>False</td>\n",
       "      <td>False</td>\n",
       "      <td>True</td>\n",
       "      <td>False</td>\n",
       "      <td>...</td>\n",
       "      <td>True</td>\n",
       "      <td>True</td>\n",
       "      <td>False</td>\n",
       "      <td>False</td>\n",
       "      <td>True</td>\n",
       "      <td>False</td>\n",
       "      <td>False</td>\n",
       "      <td>False</td>\n",
       "      <td>True</td>\n",
       "      <td>False</td>\n",
       "    </tr>\n",
       "  </tbody>\n",
       "</table>\n",
       "<p>1 rows × 21 columns</p>\n",
       "</div>"
      ],
      "text/plain": [
       "       Warehouse_blockD  Warehouse_blockF  Warehouse_blockA  Warehouse_blockB  \\\n",
       "id                                                                              \n",
       "h9713             False              True             False             False   \n",
       "\n",
       "       Warehouse_blockC  Warehouse_blockFlight  Warehouse_blockShip  \\\n",
       "id                                                                    \n",
       "h9713             False                  False                False   \n",
       "\n",
       "       Warehouse_blockRoad  Customer_care_calls(2;4]  \\\n",
       "id                                                     \n",
       "h9713                False                      True   \n",
       "\n",
       "       Customer_care_calls(4;6]  ...  Cost_of_the_Product(96;496]  \\\n",
       "id                               ...                                \n",
       "h9713                     False  ...                         True   \n",
       "\n",
       "       Product_importancelow  Product_importancemedium  \\\n",
       "id                                                       \n",
       "h9713                   True                     False   \n",
       "\n",
       "       Product_importancehigh  Discount_offered(1;21]  \\\n",
       "id                                                      \n",
       "h9713                   False                    True   \n",
       "\n",
       "       Discount_offered(21;41]  Discount_offered(41;61]  \\\n",
       "id                                                        \n",
       "h9713                    False                    False   \n",
       "\n",
       "       Discount_offered(61;81]  Weight_in_gms(1000;6000]  \\\n",
       "id                                                         \n",
       "h9713                    False                      True   \n",
       "\n",
       "       Weight_in_gms(6000;11000]  \n",
       "id                                \n",
       "h9713                      False  \n",
       "\n",
       "[1 rows x 21 columns]"
      ]
     },
     "execution_count": 17,
     "metadata": {},
     "output_type": "execute_result"
    }
   ],
   "source": [
    "X_train.sample()"
   ]
  },
  {
   "cell_type": "markdown",
   "metadata": {
    "id": "obxf3WTzu8J6"
   },
   "source": [
    "## Step 1. Build Monotone Concept Lattice"
   ]
  },
  {
   "cell_type": "markdown",
   "metadata": {
    "id": "OFZ9pxGXu8J7"
   },
   "source": [
    "Put binarized data in FormalContext and compute monotone ConceptLattice"
   ]
  },
  {
   "cell_type": "code",
   "execution_count": 18,
   "metadata": {
    "colab": {
     "base_uri": "https://localhost:8080/"
    },
    "id": "2s3nNfPCu8J7",
    "outputId": "d436cd4b-9c51-4599-d58e-30b8a2128247"
   },
   "outputs": [
    {
     "data": {
      "text/plain": [
       "FormalContext (7699 objects, 21 attributes, 45168 connections)\n",
       "      |Warehouse_blockD|Warehouse_blockF|Warehouse_blockA|Warehouse_blockB|Warehouse_blockC|...|Discount_offered(21;41]|Discount_offered(41;61]|Discount_offered(61;81]|Weight_in_gms(1000;6000]|Weight_in_gms(6000;11000]|\n",
       "h1589 |                |               X|                |                |                |...|                       |                       |                       |                       X|                         |\n",
       "h10175|                |               X|                |                |                |...|                       |                       |                       |                       X|                         |\n",
       "h326  |                |                |               X|                |                |...|                       |                      X|                       |                       X|                         |\n",
       "h10059|                |                |                |               X|                |...|                       |                       |                       |                       X|                         |\n",
       "h463  |                |               X|                |                |                |...|                      X|                       |                       |                       X|                         |\n",
       "h1722 |               X|                |                |                |                |...|                       |                       |                       |                       X|                         |\n",
       "h9790 |                |                |                |                |               X|...|                       |                       |                       |                       X|                         |\n",
       "h6023 |                |               X|                |                |                |...|                       |                       |                       |                       X|                         |\n",
       "h6378 |               X|                |                |                |                |...|                       |                       |                       |                       X|                         |\n",
       "h5590 |                |                |                |                |               X|...|                       |                       |                       |                       X|                         |\n",
       "...........................................................................................................................................................................................................................\n",
       "...........................................................................................................................................................................................................................\n",
       "h6744 |               X|                |                |                |                |...|                       |                       |                       |                       X|                         |\n",
       "h5874 |               X|                |                |                |                |...|                       |                       |                       |                       X|                         |\n",
       "h4373 |                |               X|                |                |                |...|                       |                       |                       |                       X|                         |\n",
       "h7891 |                |               X|                |                |                |...|                       |                       |                       |                       X|                         |\n",
       "h9225 |                |                |                |               X|                |...|                       |                       |                       |                       X|                         |\n",
       "h4859 |                |               X|                |                |                |...|                       |                       |                       |                       X|                         |\n",
       "h3264 |               X|                |                |                |                |...|                       |                       |                       |                       X|                         |\n",
       "h9845 |                |               X|                |                |                |...|                       |                       |                       |                       X|                         |\n",
       "h10799|                |               X|                |                |                |...|                       |                       |                       |                       X|                         |\n",
       "h2732 |                |                |               X|                |                |...|                       |                       |                       |                       X|                         |"
      ]
     },
     "execution_count": 18,
     "metadata": {},
     "output_type": "execute_result"
    }
   ],
   "source": [
    "K_train = FormalContext.from_pandas(X_train)\n",
    "K_train"
   ]
  },
  {
   "cell_type": "code",
   "execution_count": null,
   "metadata": {
    "colab": {
     "base_uri": "https://localhost:8080/"
    },
    "id": "6pXFHy-Hu8J7",
    "outputId": "b4dcdb98-2be2-45fb-91e8-2974ea5c8626"
   },
   "outputs": [],
   "source": [
    "%%time \n",
    "L = ConceptLattice.from_context(K_train, is_monotone=True)\n",
    "len(L)"
   ]
  },
  {
   "cell_type": "markdown",
   "metadata": {
    "id": "DawYnkrju8J8"
   },
   "source": [
    "Compute F1 score for each formal concept  (assuming that an object is predicted True if it is in the extent of the concept)"
   ]
  },
  {
   "cell_type": "code",
   "execution_count": null,
   "metadata": {
    "id": "1Jr6a97Uu8J8"
   },
   "outputs": [],
   "source": [
    "from sklearn.metrics import f1_score\n",
    "\n",
    "for c in L:\n",
    "    y_preds = np.zeros(K_train.n_objects)\n",
    "    y_preds[list(c.extent_i)] = 1\n",
    "    c.measures['f1_score'] = f1_score(y_train, y_preds)"
   ]
  },
  {
   "cell_type": "markdown",
   "metadata": {
    "id": "gWFF79g1u8J8"
   },
   "source": [
    "Select indices of the best concepts from the lattice"
   ]
  },
  {
   "cell_type": "code",
   "execution_count": null,
   "metadata": {
    "id": "V_TSgE1tu8J8"
   },
   "outputs": [],
   "source": [
    "best_concepts = list(L.measures['f1_score'].argsort()[::-1][:7])\n",
    "\n",
    "assert len({g_i for c in L[best_concepts] for g_i in c.extent_i})==K_train.n_objects, \"Selected concepts do not cover all train objects\""
   ]
  },
  {
   "cell_type": "markdown",
   "metadata": {
    "id": "FEbdcXTuu8J9"
   },
   "source": [
    "Construct neural network based on concept lattice"
   ]
  },
  {
   "cell_type": "code",
   "execution_count": null,
   "metadata": {
    "id": "m24Z9BF1u8J9"
   },
   "outputs": [],
   "source": [
    "cn = nl.ConceptNetwork.from_lattice(L, best_concepts, sorted(set(y_train)))"
   ]
  },
  {
   "cell_type": "markdown",
   "metadata": {
    "id": "ECcFd7WNu8J9"
   },
   "source": [
    "Setup visuzalier for the architecture"
   ]
  },
  {
   "cell_type": "code",
   "execution_count": null,
   "metadata": {
    "id": "hZCxWnGlu8J-"
   },
   "outputs": [],
   "source": [
    "vis = LineVizNx(node_label_font_size=14, node_label_func=lambda el_i, P: nl.neuron_label_func(el_i, P, set(cn.attributes))+'\\n\\n')"
   ]
  },
  {
   "cell_type": "markdown",
   "metadata": {
    "id": "5qjyAmIHu8J-"
   },
   "source": [
    "Move the nodes in visualization to make it look pretty"
   ]
  },
  {
   "cell_type": "code",
   "execution_count": null,
   "metadata": {
    "id": "ea6AL79Nu8J-"
   },
   "outputs": [],
   "source": [
    "\"\"\"vis.init_mover_per_poset(cn.poset)\n",
    "mvr = vis.mover\n",
    "for a, b in [(11, 15), (2, 3), (2,8), (2, 4), (4,5), (24, 26), (22, 26), (23, 25), (22, 24), (6, 7), ]:\n",
    "    mvr.swap_nodes(a, b)\n",
    "\n",
    "for nodes, vert in [\n",
    "    ([19, 18], 0), ([23, 22], 5), ([14, 21,20], 1), ([13, 24, 25], 6), ([26], 7), ([9, 15], 8)\n",
    "]:\n",
    "    for a in nodes:\n",
    "        mvr.place_node(a, mvr.posx[vert])\"\"\""
   ]
  },
  {
   "cell_type": "code",
   "execution_count": null,
   "metadata": {
    "id": "zjwsGnWgu8J_"
   },
   "outputs": [],
   "source": [
    "descr = {'smooth', 'green', 'oval'}\n",
    "\n",
    "traced = cn.trace_description(descr, include_targets=False)"
   ]
  },
  {
   "cell_type": "code",
   "execution_count": null,
   "metadata": {
    "colab": {
     "base_uri": "https://localhost:8080/",
     "height": 388
    },
    "id": "izLszKkXu8J_",
    "outputId": "f5ad4218-dcf1-4dca-ea7c-da724c260443"
   },
   "outputs": [],
   "source": [
    "fig, ax = plt.subplots(figsize=(15,5))\n",
    "\n",
    "vis.draw_poset(\n",
    "    cn.poset, ax=ax,\n",
    "    flg_node_indices=False,\n",
    "    node_label_func=lambda el_i, P: nl.neuron_label_func(el_i, P, set(cn.attributes), only_new_attrs=True)+'\\n\\n',\n",
    "    node_color=['darkblue' if el_i in traced else 'lightgray' for el_i in range(len(cn.poset))]\n",
    ")\n",
    "plt.title(f'NN based on 7 best concepts from monotone concept lattice', loc='left', x=0.05, size=24)\n",
    "\n",
    "plt.text(max(vis.mover.posx), min(vis.mover.posy)-0.3, f'*Blue neurons are the ones activated by description {descr}', fontsize=14, ha='right', color='dimgray')\n",
    "\n",
    "plt.subplots_adjust()\n",
    "plt.tight_layout()\n",
    "plt.show()"
   ]
  },
  {
   "cell_type": "markdown",
   "metadata": {
    "id": "JPrsmFfRu8KA"
   },
   "source": [
    "Now fit the network"
   ]
  },
  {
   "cell_type": "code",
   "execution_count": null,
   "metadata": {
    "id": "P7g8i3ecu8KA"
   },
   "outputs": [],
   "source": [
    "cn.fit(X_train, y_train)"
   ]
  },
  {
   "cell_type": "markdown",
   "metadata": {
    "id": "i7h8bK8Zu8KA"
   },
   "source": [
    "To obtain the prediction"
   ]
  },
  {
   "cell_type": "code",
   "execution_count": null,
   "metadata": {
    "colab": {
     "base_uri": "https://localhost:8080/"
    },
    "id": "v20CoH4cu8KG",
    "outputId": "a15bf3e9-0bc2-4173-f954-262f2ce7cf44"
   },
   "outputs": [],
   "source": [
    "y_pred = cn.predict(X_test).numpy()\n",
    "print('Class prediction', y_pred[:10])\n",
    "y_proba = cn.predict_proba(X_test).detach().numpy()\n",
    "print('Class prediction with probabilities', y_proba[:10])\n",
    "print('True class', y_test.values[:10])"
   ]
  },
  {
   "cell_type": "code",
   "execution_count": null,
   "metadata": {},
   "outputs": [],
   "source": [
    "print('Recall score:', recall_score(y_test.values.astype('int'), y_pred))\n",
    "print('F1     score:', f1_score(y_test.values.astype('int'), y_pred))\n",
    "print('Accuracy score:', accuracy_score(y_test.values.astype('int'), y_pred))\n",
    "print(classification_report(y_test.values.astype('int'), y_pred))"
   ]
  },
  {
   "cell_type": "markdown",
   "metadata": {
    "id": "ZMye6Bv5u8KG"
   },
   "source": [
    "Let us look at the fitted weights of edges"
   ]
  },
  {
   "cell_type": "code",
   "execution_count": null,
   "metadata": {
    "colab": {
     "base_uri": "https://localhost:8080/"
    },
    "id": "vUOWnnwdu8KH",
    "outputId": "5a0f64d7-da28-4488-f49b-d62ea7017b49"
   },
   "outputs": [],
   "source": [
    "edge_weights = cn.edge_weights_from_network()"
   ]
  },
  {
   "cell_type": "code",
   "execution_count": null,
   "metadata": {
    "colab": {
     "base_uri": "https://localhost:8080/",
     "height": 387
    },
    "id": "EQSb6l_nu8KH",
    "outputId": "7d9a7561-0a43-4896-a4e3-c21649a8a307"
   },
   "outputs": [],
   "source": [
    "import networkx as nx\n",
    "\n",
    "fig, ax = plt.subplots(figsize=(15,5))\n",
    "\n",
    "vis.draw_poset(\n",
    "    cn.poset, ax=ax,\n",
    "    flg_node_indices=False,\n",
    "    node_label_func=lambda el_i, P: nl.neuron_label_func(el_i, P, set(cn.attributes), only_new_attrs=True)+'\\n\\n',\n",
    "    edge_color=[edge_weights[edge] for edge in cn.poset.to_networkx().edges],\n",
    "    edge_cmap=plt.cm.RdBu,\n",
    ")\n",
    "nx.draw_networkx_edge_labels(cn.poset.to_networkx(), vis.mover.pos, {k: f\"{v:.1f}\" for k,v in edge_weights.items()}, label_pos=0.7)\n",
    "\n",
    "plt.title('Neural network with fitted edge weights', size=24, x=0.05, loc='left')\n",
    "plt.tight_layout()\n",
    "plt.subplots_adjust()\n",
    "plt.savefig('fitted_network.png')\n",
    "plt.show()"
   ]
  }
 ],
 "metadata": {
  "colab": {
   "provenance": []
  },
  "kernelspec": {
   "display_name": "Python 3 (ipykernel)",
   "language": "python",
   "name": "python3"
  },
  "language_info": {
   "codemirror_mode": {
    "name": "ipython",
    "version": 3
   },
   "file_extension": ".py",
   "mimetype": "text/x-python",
   "name": "python",
   "nbconvert_exporter": "python",
   "pygments_lexer": "ipython3",
   "version": "3.9.6"
  }
 },
 "nbformat": 4,
 "nbformat_minor": 4
}

{
 "cells": [
  {
   "cell_type": "code",
   "execution_count": 1,
   "metadata": {
    "colab": {
     "base_uri": "https://localhost:8080/"
    },
    "id": "cuicenOBvdEQ",
    "outputId": "ad1943da-99e0-493b-dd85-8b98956acbfc"
   },
   "outputs": [
    {
     "name": "stdout",
     "output_type": "stream",
     "text": [
      "zsh:1: no matches found: fcapy[all]\n",
      "Defaulting to user installation because normal site-packages is not writeable\n",
      "Collecting frozendict\n",
      "  Downloading frozendict-2.4.6-cp39-cp39-macosx_11_0_arm64.whl (37 kB)\n",
      "Installing collected packages: frozendict\n",
      "Successfully installed frozendict-2.4.6\n",
      "\u001b[33mWARNING: You are using pip version 21.2.4; however, version 24.3.1 is available.\n",
      "You should consider upgrading via the '/Applications/Xcode.app/Contents/Developer/usr/bin/python3 -m pip install --upgrade pip' command.\u001b[0m\n",
      "Defaulting to user installation because normal site-packages is not writeable\n",
      "Collecting ipynb\n",
      "  Downloading ipynb-0.5.1-py3-none-any.whl (6.9 kB)\n",
      "Installing collected packages: ipynb\n",
      "Successfully installed ipynb-0.5.1\n",
      "\u001b[33mWARNING: You are using pip version 21.2.4; however, version 24.3.1 is available.\n",
      "You should consider upgrading via the '/Applications/Xcode.app/Contents/Developer/usr/bin/python3 -m pip install --upgrade pip' command.\u001b[0m\n",
      "Defaulting to user installation because normal site-packages is not writeable\n",
      "Collecting sparselinear\n",
      "  Downloading sparselinear-0.0.5-py3-none-any.whl (9.9 kB)\n",
      "Requirement already satisfied: numpy in /Users/brtshohin/Library/Python/3.9/lib/python/site-packages (from sparselinear) (2.0.2)\n",
      "Requirement already satisfied: torch in /Users/brtshohin/Library/Python/3.9/lib/python/site-packages (from sparselinear) (2.5.1)\n",
      "Requirement already satisfied: typing-extensions>=4.8.0 in /Users/brtshohin/Library/Python/3.9/lib/python/site-packages (from torch->sparselinear) (4.12.2)\n",
      "Requirement already satisfied: sympy==1.13.1 in /Users/brtshohin/Library/Python/3.9/lib/python/site-packages (from torch->sparselinear) (1.13.1)\n",
      "Requirement already satisfied: networkx in /Users/brtshohin/Library/Python/3.9/lib/python/site-packages (from torch->sparselinear) (3.2.1)\n",
      "Requirement already satisfied: filelock in /Users/brtshohin/Library/Python/3.9/lib/python/site-packages (from torch->sparselinear) (3.16.1)\n",
      "Requirement already satisfied: jinja2 in /Users/brtshohin/Library/Python/3.9/lib/python/site-packages (from torch->sparselinear) (3.1.4)\n",
      "Requirement already satisfied: fsspec in /Users/brtshohin/Library/Python/3.9/lib/python/site-packages (from torch->sparselinear) (2024.10.0)\n",
      "Requirement already satisfied: mpmath<1.4,>=1.1.0 in /Users/brtshohin/Library/Python/3.9/lib/python/site-packages (from sympy==1.13.1->torch->sparselinear) (1.3.0)\n",
      "Requirement already satisfied: MarkupSafe>=2.0 in /Users/brtshohin/Library/Python/3.9/lib/python/site-packages (from jinja2->torch->sparselinear) (3.0.2)\n",
      "Installing collected packages: sparselinear\n",
      "Successfully installed sparselinear-0.0.5\n",
      "\u001b[33mWARNING: You are using pip version 21.2.4; however, version 24.3.1 is available.\n",
      "You should consider upgrading via the '/Applications/Xcode.app/Contents/Developer/usr/bin/python3 -m pip install --upgrade pip' command.\u001b[0m\n",
      "Defaulting to user installation because normal site-packages is not writeable\n",
      "Collecting bitsets\n",
      "  Downloading bitsets-0.8.4-py3-none-any.whl (13 kB)\n",
      "Installing collected packages: bitsets\n",
      "Successfully installed bitsets-0.8.4\n",
      "\u001b[33mWARNING: You are using pip version 21.2.4; however, version 24.3.1 is available.\n",
      "You should consider upgrading via the '/Applications/Xcode.app/Contents/Developer/usr/bin/python3 -m pip install --upgrade pip' command.\u001b[0m\n",
      "Defaulting to user installation because normal site-packages is not writeable\n",
      "Collecting bitarray\n",
      "  Downloading bitarray-3.0.0-cp39-cp39-macosx_11_0_arm64.whl (121 kB)\n",
      "\u001b[K     |████████████████████████████████| 121 kB 629 kB/s eta 0:00:01\n",
      "\u001b[?25hInstalling collected packages: bitarray\n",
      "Successfully installed bitarray-3.0.0\n",
      "\u001b[33mWARNING: You are using pip version 21.2.4; however, version 24.3.1 is available.\n",
      "You should consider upgrading via the '/Applications/Xcode.app/Contents/Developer/usr/bin/python3 -m pip install --upgrade pip' command.\u001b[0m\n",
      "Defaulting to user installation because normal site-packages is not writeable\n",
      "Looking in links: https://data.pyg.org/whl/torch-2.0.0+cuda118.html\n",
      "Collecting torch-scatter\n",
      "  Downloading torch_scatter-2.1.2.tar.gz (108 kB)\n",
      "\u001b[K     |████████████████████████████████| 108 kB 601 kB/s eta 0:00:01\n",
      "\u001b[?25hBuilding wheels for collected packages: torch-scatter\n",
      "  Building wheel for torch-scatter (setup.py) ..done\n",
      "\u001b[?25h  Created wheel for torch-scatter: filename=torch_scatter-2.1.2-cp39-cp39-macosx_11_0_universal2.whl size=327755 sha256=65d9d11bd75e1169c1a87f76b5c267958543b57d355aeac5582cec79308bfadd\n",
      "  Stored in directory: /Users/brtshohin/Library/Caches/pip/wheels/b8/9c/c0/d261e1e64cc49e6b14dd7319d8b61eb14168529d810dbba00e\n",
      "Successfully built torch-scatter\n",
      "Installing collected packages: torch-scatter\n",
      "Successfully installed torch-scatter-2.1.2\n",
      "\u001b[33mWARNING: You are using pip version 21.2.4; however, version 24.3.1 is available.\n",
      "You should consider upgrading via the '/Applications/Xcode.app/Contents/Developer/usr/bin/python3 -m pip install --upgrade pip' command.\u001b[0m\n",
      "Defaulting to user installation because normal site-packages is not writeable\n",
      "Looking in links: https://data.pyg.org/whl/torch-2.0.0+cuda118.html\n",
      "Collecting torch-sparse\n",
      "  Downloading torch_sparse-0.6.18.tar.gz (209 kB)\n",
      "\u001b[K     |████████████████████████████████| 209 kB 546 kB/s eta 0:00:01\n",
      "\u001b[?25hCollecting scipy\n",
      "  Downloading scipy-1.13.1-cp39-cp39-macosx_12_0_arm64.whl (30.3 MB)\n",
      "\u001b[K     |████████████████████████████████| 30.3 MB 2.5 MB/s eta 0:00:01\n",
      "\u001b[?25hRequirement already satisfied: numpy<2.3,>=1.22.4 in /Users/brtshohin/Library/Python/3.9/lib/python/site-packages (from scipy->torch-sparse) (2.0.2)\n",
      "Building wheels for collected packages: torch-sparse\n",
      "  Building wheel for done\n",
      "\u001b[?25h  Created wheel for torch-sparse: filename=torch_sparse-0.6.18-cp39-cp39-macosx_11_0_universal2.whl size=477223 sha256=e25b1233b322d21afc1b9c477033ad4b1ba0a1df0a5c8170470c230feecf5eba\n",
      "  Stored in directory: /Users/brtshohin/Library/Caches/pip/wheels/c0/15/18/881c60adefeb60882987c23aa5ecced0ab7257c3162acab518\n",
      "Successfully built torch-sparse\n",
      "Installing collected packages: scipy, torch-sparse\n",
      "Successfully installed scipy-1.13.1 torch-sparse-0.6.18\n",
      "\u001b[33mWARNING: You are using pip version 21.2.4; however, version 24.3.1 is available.\n",
      "You should consider upgrading via the '/Applications/Xcode.app/Contents/Developer/usr/bin/python3 -m pip install --upgrade pip' command.\u001b[0m\n",
      "Defaulting to user installation because normal site-packages is not writeable\n",
      "Looking in links: https://data.pyg.org/whl/torch-2.0.0+cuda118.html\n",
      "Collecting torch-cluster\n",
      "  Downloading torch_cluster-1.6.3.tar.gz (54 kB)\n",
      "\u001b[K     |████████████████████████████████| 54 kB 232 kB/s eta 0:00:01\n",
      "\u001b[?25hRequirement already satisfied: scipy in /Users/brtshohin/Library/Python/3.9/lib/python/site-packages (from torch-cluster) (1.13.1)\n",
      "Requirement already satisfied: numpy<2.3,>=1.22.4 in /Users/brtshohin/Library/Python/3.9/lib/python/site-packages (from scipy->torch-cluster) (2.0.2)\n",
      "Building wheels for collected packages: torch-cluster\n",
      "  Building wheel for torch-cluster (setudone\n",
      "\u001b[?25h  Created wheel for torch-cluster: filename=torch_cluster-1.6.3-cp39-cp39-macosx_11_0_universal2.whl size=300788 sha256=c35894c85db299bdf838ffdae6ca804f5bab7570dc157a44911d08df65eda2e6\n",
      "  Stored in directory: /Users/brtshohin/Library/Caches/pip/wheels/fc/55/f3/d8a310d8f0c29653a7580789f3b53f15e3cd2e88ff8ed5eeb5\n",
      "Successfully built torch-cluster\n",
      "Installing collected packages: torch-cluster\n",
      "Successfully installed torch-cluster-1.6.3\n",
      "\u001b[33mWARNING: You are using pip version 21.2.4; however, version 24.3.1 is available.\n",
      "You should consider upgrading via the '/Applications/Xcode.app/Contents/Developer/usr/bin/python3 -m pip install --upgrade pip' command.\u001b[0m\n",
      "Defaulting to user installation because normal site-packages is not writeable\n",
      "Collecting git+https://github.com/pyg-team/pytorch_geometric.git\n",
      "  Cloning https://github.com/pyg-team/pytorch_geometric.git to /private/var/folders/kw/9jxghy716g93vwpzn35w3ldh0000gn/T/pip-req-build-j1t78nt_\n",
      "  Running command git clone -q https://github.com/pyg-team/pytorch_geometric.git /private/var/folders/kw/9jxghy716g93vwpzn35w3ldh0000gn/T/pip-req-build-j1t78nt_\n",
      "  Resolved https://github.com/pyg-team/pytorch_geometric.git to commit bd5ae45c74a3fbb6b6ff818476f7651d84313d2a\n",
      "\u001b[33m  WARNING: Value for prefixed-purelib does not match. Please report this to <https://github.com/pypa/pip/issues/10151>\n",
      "  distutils: /private/var/folders/kw/9jxghy716g93vwpzn35w3ldh0000gn/T/pip-build-env-l9v1m8ia/normal/lib/python3.9/site-packages\n",
      "  sysconfig: /Library/Python/3.9/site-packages\u001b[0m\n",
      "\u001b[33m  WARNING: Value for prefixed-platlib does not match. Please report this to <https://github.com/pypa/pip/issues/10151>\n",
      "  distutils: /private/var/folders/kw/9jxghy716g93vwpzn35w3ldh0000gn/T/pip-build-env-l9v1m8ia/normal/lib/python3.9/site-packages\n",
      "  sysconfig: /Library/Python/3.9/site-packages\u001b[0m\n",
      "\u001b[33m  WARNING: Additional context:\n",
      "  user = False\n",
      "  home = None\n",
      "  root = None\n",
      "  prefix = '/private/var/folders/kw/9jxghy716g93vwpzn35w3ldh0000gn/T/pip-build-env-l9v1m8ia/normal'\u001b[0m\n",
      "\u001b[33m  WARNING: Value for prefixed-purelib does not match. Please report this to <https://github.com/pypa/pip/issues/10151>\n",
      "  distutils: /private/var/folders/kw/9jxghy716g93vwpzn35w3ldh0000gn/T/pip-build-env-l9v1m8ia/overlay/lib/python3.9/site-packages\n",
      "  sysconfig: /Library/Python/3.9/site-packages\u001b[0m\n",
      "\u001b[33m  WARNING: Value for prefixed-platlib does not match. Please report this to <https://github.com/pypa/pip/issues/10151>\n",
      "  distutils: /private/var/folders/kw/9jxghy716g93vwpzn35w3ldh0000gn/T/pip-build-env-l9v1m8ia/overlay/lib/python3.9/site-packages\n",
      "  sysconfig: /Library/Python/3.9/site-packages\u001b[0m\n",
      "\u001b[33m  WARNING: Additional context:\n",
      "  user = False\n",
      "  home = None\n",
      "  root = None\n",
      "  prefix = '/private/var/folders/kw/9jxghy716g93vwpzn35w3ldh0000gn/T/pip-build-env-l9v1m8ia/overlay'\u001b[0m\n",
      "  Installing build dependencies ... \u001b[?2done\n",
      "\u001b[?25h  Getting requirements to build wheel ... \u001b[?25ldone\n",
      "\u001b[?25h    Preparing wheel metadata ... \u001b[?25ldone\n",
      "\u001b[?25hCollecting aiohttp\n",
      "  Downloading aiohttp-3.11.10-cp39-cp39-macosx_11_0_arm64.whl (455 kB)\n",
      "\u001b[K     |████████████████████████████████| 455 kB 545 kB/s eta 0:00:01\n",
      "\u001b[?25hRequirement already satisfied: fsspec in /Users/brtshohin/Library/Python/3.9/lib/python/site-packages (from torch-geometric==2.7.0) (2024.10.0)\n",
      "Collecting tqdm\n",
      "  Downloading tqdm-4.67.1-py3-none-any.whl (78 kB)\n",
      "\u001b[K     |████████████████████████████████| 78 kB 731 kB/s eta 0:00:01\n",
      "\u001b[?25hCollecting pyparsing\n",
      "  Downloading pyparsing-3.2.0-py3-none-any.whl (106 kB)\n",
      "\u001b[K     |████████████████████████████████| 106 kB 1.2 MB/s eta 0:00:01\n",
      "\u001b[?25hRequirement already satisfied: numpy in /Users/brtshohin/Library/Python/3.9/lib/python/site-packages (from torch-geometric==2.7.0) (2.0.2)\n",
      "Requirement already satisfied: requests in /Users/brtshohin/Library/Python/3.9/lib/python/site-packages (from torch-geometric==2.7.0) (2.32.3)\n",
      "Requirement already satisfied: jinja2 in /Users/brtshohin/Library/Python/3.9/lib/python/site-packages (from torch-geometric==2.7.0) (3.1.4)\n",
      "Requirement already satisfied: psutil>=5.8.0 in /Users/brtshohin/Library/Python/3.9/lib/python/site-packages (from torch-geometric==2.7.0) (6.1.0)\n",
      "Requirement already satisfied: attrs>=17.3.0 in /Users/brtshohin/Library/Python/3.9/lib/python/site-packages (from aiohttp->torch-geometric==2.7.0) (24.2.0)\n",
      "Collecting aiohappyeyeballs>=2.3.0\n",
      "  Downloading aiohappyeyeballs-2.4.4-py3-none-any.whl (14 kB)\n",
      "Collecting propcache>=0.2.0\n",
      "  Downloading propcache-0.2.1-cp39-cp39-macosx_11_0_arm64.whl (45 kB)\n",
      "\u001b[K     |████████████████████████████████| 45 kB 1.8 MB/s eta 0:00:011\n",
      "\u001b[?25hCollecting async-timeout<6.0,>=4.0\n",
      "  Downloading async_timeout-5.0.1-py3-none-any.whl (6.2 kB)\n",
      "Collecting frozenlist>=1.1.1\n",
      "  Downloading frozenlist-1.5.0-cp39-cp39-macosx_11_0_arm64.whl (52 kB)\n",
      "\u001b[K     |████████████████████████████████| 52 kB 1.3 MB/s eta 0:00:01\n",
      "\u001b[?25hCollecting multidict<7.0,>=4.5\n",
      "  Downloading multidict-6.1.0-cp39-cp39-macosx_11_0_arm64.whl (29 kB)\n",
      "Collecting yarl<2.0,>=1.17.0\n",
      "  Downloading yarl-1.18.3-cp39-cp39-macosx_11_0_arm64.whl (92 kB)\n",
      "\u001b[K     |████████████████████████████████| 92 kB 1.0 MB/s eta 0:00:01\n",
      "\u001b[?25hCollecting aiosignal>=1.1.2\n",
      "  Downloading aiosignal-1.3.1-py3-none-any.whl (7.6 kB)\n",
      "Requirement already satisfied: typing-extensions>=4.1.0 in /Users/brtshohin/Library/Python/3.9/lib/python/site-packages (from multidict<7.0,>=4.5->aiohttp->torch-geometric==2.7.0) (4.12.2)\n",
      "Requirement already satisfied: idna>=2.0 in /Users/brtshohin/Library/Python/3.9/lib/python/site-packages (from yarl<2.0,>=1.17.0->aiohttp->torch-geometric==2.7.0) (3.10)\n",
      "Requirement already satisfied: MarkupSafe>=2.0 in /Users/brtshohin/Library/Python/3.9/lib/python/site-packages (from jinja2->torch-geometric==2.7.0) (3.0.2)\n",
      "Requirement already satisfied: charset-normalizer<4,>=2 in /Users/brtshohin/Library/Python/3.9/lib/python/site-packages (from requests->torch-geometric==2.7.0) (3.4.0)\n",
      "Requirement already satisfied: urllib3<3,>=1.21.1 in /Users/brtshohin/Library/Python/3.9/lib/python/site-packages (from requests->torch-geometric==2.7.0) (2.2.3)\n",
      "Requirement already satisfied: certifi>=2017.4.17 in /Users/brtshohin/Library/Python/3.9/lib/python/site-packages (from requests->torch-geometric==2.7.0) (2024.8.30)\n",
      "Building wheels for collected packages: torch-geometric\n",
      "  Building wheel for torch-geometric (PEP 517) ... \u001b[?25ldone\n",
      "\u001b[?25h  Created wheel for torch-geometric: filename=torch_geometric-2.7.0-py3-none-any.whl size=1168585 sha256=263a9b6439acc08b850eeb67c8dc51cba865ac7d8b072a02e773e40b4d244a8c\n",
      "  Stored in directory: /private/var/folders/kw/9jxghy716g93vwpzn35w3ldh0000gn/T/pip-ephem-wheel-cache-v1fe0afp/wheels/e5/8a/bc/10228fa47bb01dd916740a9102c063c4e363e7dac6d55dba4a\n",
      "Successfully built torch-geometric\n",
      "Installing collected packages: propcache, multidict, frozenlist, yarl, async-timeout, aiosignal, aiohappyeyeballs, tqdm, pyparsing, aiohttp, torch-geometric\n",
      "\u001b[33m  WARNING: The script tqdm is installed in '/Users/brtshohin/Library/Python/3.9/bin' which is not on PATH.\n",
      "  Consider adding this directory to PATH or, if you prefer to suppress this warning, use --no-warn-script-location.\u001b[0m\n",
      "Successfully installed aiohappyeyeballs-2.4.4 aiohttp-3.11.10 aiosignal-1.3.1 async-timeout-5.0.1 frozenlist-1.5.0 multidict-6.1.0 propcache-0.2.1 pyparsing-3.2.0 torch-geometric-2.7.0 tqdm-4.67.1 yarl-1.18.3\n",
      "\u001b[33mWARNING: You are using pip version 21.2.4; however, version 24.3.1 is available.\n",
      "You should consider upgrading via the '/Applications/Xcode.app/Contents/Developer/usr/bin/python3 -m pip install --upgrade pip' command.\u001b[0m\n"
     ]
    }
   ],
   "source": [
    "!pip3 install fcapy[all]\n",
    "!pip3 install frozendict\n",
    "!pip3 install ipynb\n",
    "!pip3 install sparselinear\n",
    "!pip3 install bitsets\n",
    "!pip3 install bitarray\n",
    "import torch\n",
    "!pip3 install torch-scatter -f https://data.pyg.org/whl/torch-2.0.0+cuda118.html\n",
    "!pip3 install torch-sparse -f https://data.pyg.org/whl/torch-2.0.0+cuda118.html\n",
    "!pip3 install torch-cluster -f https://data.pyg.org/whl/torch-2.0.0+cuda118.html\n",
    "!pip3 install git+https://github.com/pyg-team/pytorch_geometric.git"
   ]
  },
  {
   "cell_type": "markdown",
   "metadata": {
    "id": "3v12S4V2u8J0"
   },
   "source": [
    "# Import libs"
   ]
  },
  {
   "cell_type": "code",
   "execution_count": 2,
   "metadata": {
    "id": "dUEvmHBsu8J0"
   },
   "outputs": [],
   "source": [
    "import numpy as np\n",
    "import pandas as pd"
   ]
  },
  {
   "cell_type": "code",
   "execution_count": 4,
   "metadata": {
    "id": "TLvzJls4u8J2"
   },
   "outputs": [
    {
     "name": "stderr",
     "output_type": "stream",
     "text": [
      "/Users/brtshohin/Library/Python/3.9/lib/python/site-packages/tqdm/auto.py:21: TqdmWarning: IProgress not found. Please update jupyter and ipywidgets. See https://ipywidgets.readthedocs.io/en/stable/user_install.html\n",
      "  from .autonotebook import tqdm as notebook_tqdm\n"
     ]
    }
   ],
   "source": [
    "from fcapy.context import FormalContext\n",
    "from fcapy.lattice import ConceptLattice"
   ]
  },
  {
   "cell_type": "code",
   "execution_count": 5,
   "metadata": {
    "id": "dh6ROPg2u8J3"
   },
   "outputs": [
    {
     "name": "stderr",
     "output_type": "stream",
     "text": [
      "Matplotlib is building the font cache; this may take a moment.\n"
     ]
    }
   ],
   "source": [
    "from fcapy.visualizer import LineVizNx\n",
    "import matplotlib.pyplot as plt\n",
    "\n",
    "plt.rcParams['figure.facecolor'] = (1,1,1,1)"
   ]
  },
  {
   "cell_type": "code",
   "execution_count": 6,
   "metadata": {
    "id": "6CreHYwWu8J3"
   },
   "outputs": [],
   "source": [
    "import neural_lib as nl"
   ]
  },
  {
   "cell_type": "code",
   "execution_count": 10,
   "metadata": {
    "colab": {
     "base_uri": "https://localhost:8080/",
     "height": 237
    },
    "id": "sB1UqaW_u8J3",
    "outputId": "863a82d3-f3e9-49f6-b569-079be9ee7b86"
   },
   "outputs": [
    {
     "data": {
      "text/html": [
       "<div>\n",
       "<style scoped>\n",
       "    .dataframe tbody tr th:only-of-type {\n",
       "        vertical-align: middle;\n",
       "    }\n",
       "\n",
       "    .dataframe tbody tr th {\n",
       "        vertical-align: top;\n",
       "    }\n",
       "\n",
       "    .dataframe thead th {\n",
       "        text-align: right;\n",
       "    }\n",
       "</style>\n",
       "<table border=\"1\" class=\"dataframe\">\n",
       "  <thead>\n",
       "    <tr style=\"text-align: right;\">\n",
       "      <th></th>\n",
       "      <th>Warehouse_block</th>\n",
       "      <th>Mode_of_Shipment</th>\n",
       "      <th>Customer_care_calls</th>\n",
       "      <th>Customer_rating</th>\n",
       "      <th>Cost_of_the_Product</th>\n",
       "      <th>Prior_purchases</th>\n",
       "      <th>Product_importance</th>\n",
       "      <th>Gender</th>\n",
       "      <th>Discount_offered</th>\n",
       "      <th>Weight_in_gms</th>\n",
       "      <th>Reached.on.Time_Y.N</th>\n",
       "    </tr>\n",
       "    <tr>\n",
       "      <th>ID</th>\n",
       "      <th></th>\n",
       "      <th></th>\n",
       "      <th></th>\n",
       "      <th></th>\n",
       "      <th></th>\n",
       "      <th></th>\n",
       "      <th></th>\n",
       "      <th></th>\n",
       "      <th></th>\n",
       "      <th></th>\n",
       "      <th></th>\n",
       "    </tr>\n",
       "  </thead>\n",
       "  <tbody>\n",
       "    <tr>\n",
       "      <th>1</th>\n",
       "      <td>D</td>\n",
       "      <td>Flight</td>\n",
       "      <td>4</td>\n",
       "      <td>2</td>\n",
       "      <td>177</td>\n",
       "      <td>3</td>\n",
       "      <td>low</td>\n",
       "      <td>F</td>\n",
       "      <td>44</td>\n",
       "      <td>1233</td>\n",
       "      <td>1</td>\n",
       "    </tr>\n",
       "    <tr>\n",
       "      <th>2</th>\n",
       "      <td>F</td>\n",
       "      <td>Flight</td>\n",
       "      <td>4</td>\n",
       "      <td>5</td>\n",
       "      <td>216</td>\n",
       "      <td>2</td>\n",
       "      <td>low</td>\n",
       "      <td>M</td>\n",
       "      <td>59</td>\n",
       "      <td>3088</td>\n",
       "      <td>1</td>\n",
       "    </tr>\n",
       "    <tr>\n",
       "      <th>3</th>\n",
       "      <td>A</td>\n",
       "      <td>Flight</td>\n",
       "      <td>2</td>\n",
       "      <td>2</td>\n",
       "      <td>183</td>\n",
       "      <td>4</td>\n",
       "      <td>low</td>\n",
       "      <td>M</td>\n",
       "      <td>48</td>\n",
       "      <td>3374</td>\n",
       "      <td>1</td>\n",
       "    </tr>\n",
       "    <tr>\n",
       "      <th>4</th>\n",
       "      <td>B</td>\n",
       "      <td>Flight</td>\n",
       "      <td>3</td>\n",
       "      <td>3</td>\n",
       "      <td>176</td>\n",
       "      <td>4</td>\n",
       "      <td>medium</td>\n",
       "      <td>M</td>\n",
       "      <td>10</td>\n",
       "      <td>1177</td>\n",
       "      <td>1</td>\n",
       "    </tr>\n",
       "    <tr>\n",
       "      <th>5</th>\n",
       "      <td>C</td>\n",
       "      <td>Flight</td>\n",
       "      <td>2</td>\n",
       "      <td>2</td>\n",
       "      <td>184</td>\n",
       "      <td>3</td>\n",
       "      <td>medium</td>\n",
       "      <td>F</td>\n",
       "      <td>46</td>\n",
       "      <td>2484</td>\n",
       "      <td>1</td>\n",
       "    </tr>\n",
       "  </tbody>\n",
       "</table>\n",
       "</div>"
      ],
      "text/plain": [
       "   Warehouse_block Mode_of_Shipment  Customer_care_calls  Customer_rating  \\\n",
       "ID                                                                          \n",
       "1                D           Flight                    4                2   \n",
       "2                F           Flight                    4                5   \n",
       "3                A           Flight                    2                2   \n",
       "4                B           Flight                    3                3   \n",
       "5                C           Flight                    2                2   \n",
       "\n",
       "    Cost_of_the_Product  Prior_purchases Product_importance Gender  \\\n",
       "ID                                                                   \n",
       "1                   177                3                low      F   \n",
       "2                   216                2                low      M   \n",
       "3                   183                4                low      M   \n",
       "4                   176                4             medium      M   \n",
       "5                   184                3             medium      F   \n",
       "\n",
       "    Discount_offered  Weight_in_gms  Reached.on.Time_Y.N  \n",
       "ID                                                        \n",
       "1                 44           1233                    1  \n",
       "2                 59           3088                    1  \n",
       "3                 48           3374                    1  \n",
       "4                 10           1177                    1  \n",
       "5                 46           2484                    1  "
      ]
     },
     "execution_count": 10,
     "metadata": {},
     "output_type": "execute_result"
    }
   ],
   "source": [
    "df = pd.read_csv('./data.csv', index_col=0)\n",
    "df.head()"
   ]
  },
  {
   "cell_type": "markdown",
   "metadata": {
    "id": "de8PEof6u8J5"
   },
   "source": [
    "# Pipeline"
   ]
  },
  {
   "cell_type": "markdown",
   "metadata": {
    "id": "Joqy7QCNu8J5"
   },
   "source": [
    "# Step 0. Binarize the data"
   ]
  },
  {
   "cell_type": "code",
   "execution_count": 53,
   "metadata": {
    "id": "QHv87ygJu8J5"
   },
   "outputs": [
    {
     "data": {
      "text/html": [
       "<div>\n",
       "<style scoped>\n",
       "    .dataframe tbody tr th:only-of-type {\n",
       "        vertical-align: middle;\n",
       "    }\n",
       "\n",
       "    .dataframe tbody tr th {\n",
       "        vertical-align: top;\n",
       "    }\n",
       "\n",
       "    .dataframe thead th {\n",
       "        text-align: right;\n",
       "    }\n",
       "</style>\n",
       "<table border=\"1\" class=\"dataframe\">\n",
       "  <thead>\n",
       "    <tr style=\"text-align: right;\">\n",
       "      <th></th>\n",
       "      <th>Customer_care_calls&gt;0</th>\n",
       "      <th>Customer_care_calls=0</th>\n",
       "      <th>Customer_rating&gt;0</th>\n",
       "      <th>Customer_rating=0</th>\n",
       "      <th>Prior_purchases&gt;0</th>\n",
       "      <th>Prior_purchases=0</th>\n",
       "      <th>Reached_on_time</th>\n",
       "    </tr>\n",
       "    <tr>\n",
       "      <th>ID</th>\n",
       "      <th></th>\n",
       "      <th></th>\n",
       "      <th></th>\n",
       "      <th></th>\n",
       "      <th></th>\n",
       "      <th></th>\n",
       "      <th></th>\n",
       "    </tr>\n",
       "  </thead>\n",
       "  <tbody>\n",
       "    <tr>\n",
       "      <th>1</th>\n",
       "      <td>True</td>\n",
       "      <td>False</td>\n",
       "      <td>True</td>\n",
       "      <td>False</td>\n",
       "      <td>True</td>\n",
       "      <td>False</td>\n",
       "      <td>False</td>\n",
       "    </tr>\n",
       "    <tr>\n",
       "      <th>2</th>\n",
       "      <td>True</td>\n",
       "      <td>False</td>\n",
       "      <td>True</td>\n",
       "      <td>False</td>\n",
       "      <td>True</td>\n",
       "      <td>False</td>\n",
       "      <td>False</td>\n",
       "    </tr>\n",
       "    <tr>\n",
       "      <th>3</th>\n",
       "      <td>True</td>\n",
       "      <td>False</td>\n",
       "      <td>True</td>\n",
       "      <td>False</td>\n",
       "      <td>True</td>\n",
       "      <td>False</td>\n",
       "      <td>False</td>\n",
       "    </tr>\n",
       "    <tr>\n",
       "      <th>4</th>\n",
       "      <td>True</td>\n",
       "      <td>False</td>\n",
       "      <td>True</td>\n",
       "      <td>False</td>\n",
       "      <td>True</td>\n",
       "      <td>False</td>\n",
       "      <td>False</td>\n",
       "    </tr>\n",
       "    <tr>\n",
       "      <th>5</th>\n",
       "      <td>True</td>\n",
       "      <td>False</td>\n",
       "      <td>True</td>\n",
       "      <td>False</td>\n",
       "      <td>True</td>\n",
       "      <td>False</td>\n",
       "      <td>False</td>\n",
       "    </tr>\n",
       "  </tbody>\n",
       "</table>\n",
       "</div>"
      ],
      "text/plain": [
       "    Customer_care_calls>0  Customer_care_calls=0  Customer_rating>0  \\\n",
       "ID                                                                    \n",
       "1                    True                  False               True   \n",
       "2                    True                  False               True   \n",
       "3                    True                  False               True   \n",
       "4                    True                  False               True   \n",
       "5                    True                  False               True   \n",
       "\n",
       "    Customer_rating=0  Prior_purchases>0  Prior_purchases=0  Reached_on_time  \n",
       "ID                                                                            \n",
       "1               False               True              False            False  \n",
       "2               False               True              False            False  \n",
       "3               False               True              False            False  \n",
       "4               False               True              False            False  \n",
       "5               False               True              False            False  "
      ]
     },
     "execution_count": 53,
     "metadata": {},
     "output_type": "execute_result"
    }
   ],
   "source": [
    "df_bin = pd.DataFrame()\n",
    "df_bin['Customer_care_calls>0'] = df['Customer_care_calls'] > 0\n",
    "df_bin['Customer_care_calls=0'] = df['Customer_care_calls'] == 0\n",
    "df_bin['Customer_rating>0'] = df['Customer_care_calls'] > 0\n",
    "df_bin['Customer_rating=0'] = df['Customer_care_calls'] == 0\n",
    "df_bin['Prior_purchases>0'] = df['Customer_care_calls'] > 0\n",
    "df_bin['Prior_purchases=0'] = df['Customer_care_calls'] == 0\n",
    "df_bin['Reached_on_time'] = df['Reached.on.Time_Y.N'] == 0\n",
    "df_bin.head()"
   ]
  },
  {
   "cell_type": "code",
   "execution_count": 29,
   "metadata": {},
   "outputs": [
    {
     "data": {
      "text/html": [
       "<div>\n",
       "<style scoped>\n",
       "    .dataframe tbody tr th:only-of-type {\n",
       "        vertical-align: middle;\n",
       "    }\n",
       "\n",
       "    .dataframe tbody tr th {\n",
       "        vertical-align: top;\n",
       "    }\n",
       "\n",
       "    .dataframe thead th {\n",
       "        text-align: right;\n",
       "    }\n",
       "</style>\n",
       "<table border=\"1\" class=\"dataframe\">\n",
       "  <thead>\n",
       "    <tr style=\"text-align: right;\">\n",
       "      <th></th>\n",
       "      <th>Customer_care_calls&gt;0</th>\n",
       "      <th>Customer_care_calls=0</th>\n",
       "      <th>Customer_rating&gt;0</th>\n",
       "      <th>Customer_rating=0</th>\n",
       "      <th>Prior_purchases&gt;0</th>\n",
       "      <th>Prior_purchases=0</th>\n",
       "      <th>Reached_on_time</th>\n",
       "    </tr>\n",
       "    <tr>\n",
       "      <th>id</th>\n",
       "      <th></th>\n",
       "      <th></th>\n",
       "      <th></th>\n",
       "      <th></th>\n",
       "      <th></th>\n",
       "      <th></th>\n",
       "      <th></th>\n",
       "    </tr>\n",
       "  </thead>\n",
       "  <tbody>\n",
       "    <tr>\n",
       "      <th>h6981</th>\n",
       "      <td>True</td>\n",
       "      <td>False</td>\n",
       "      <td>True</td>\n",
       "      <td>False</td>\n",
       "      <td>True</td>\n",
       "      <td>False</td>\n",
       "      <td>False</td>\n",
       "    </tr>\n",
       "  </tbody>\n",
       "</table>\n",
       "</div>"
      ],
      "text/plain": [
       "       Customer_care_calls>0  Customer_care_calls=0  Customer_rating>0  \\\n",
       "id                                                                       \n",
       "h6981                   True                  False               True   \n",
       "\n",
       "       Customer_rating=0  Prior_purchases>0  Prior_purchases=0  \\\n",
       "id                                                               \n",
       "h6981              False               True              False   \n",
       "\n",
       "       Reached_on_time  \n",
       "id                      \n",
       "h6981            False  "
      ]
     },
     "execution_count": 29,
     "metadata": {},
     "output_type": "execute_result"
    }
   ],
   "source": [
    "df_bin['sample_id'] = np.arange(0, df_bin.shape[0], 1).astype(str)\n",
    "df_bin['id'] = df_bin['sample_id'].apply(lambda x: 'h' + x)\n",
    "df_bin.drop(columns=['sample_id'], inplace=True)\n",
    "df_bin=df_bin.set_index('id')\n",
    "df_bin.sample()"
   ]
  },
  {
   "cell_type": "markdown",
   "metadata": {
    "id": "OgvmQkGnu8J6"
   },
   "source": [
    "Split the data to train and test"
   ]
  },
  {
   "cell_type": "code",
   "execution_count": 24,
   "metadata": {},
   "outputs": [],
   "source": [
    "from sklearn.model_selection import train_test_split\n",
    "from sklearn.metrics import f1_score, recall_score, accuracy_score, classification_report"
   ]
  },
  {
   "cell_type": "code",
   "execution_count": 30,
   "metadata": {},
   "outputs": [],
   "source": [
    "y_feat = 'Reached_on_time'\n",
    "df_train, df_test = train_test_split(df_bin, train_size=0.7, random_state=0)"
   ]
  },
  {
   "cell_type": "code",
   "execution_count": 31,
   "metadata": {},
   "outputs": [],
   "source": [
    "X_train, y_train = df_train.drop(y_feat, axis=1), df_train[y_feat]\n",
    "X_test, y_test = df_test.drop(y_feat, axis=1), df_test[y_feat]"
   ]
  },
  {
   "cell_type": "code",
   "execution_count": 32,
   "metadata": {},
   "outputs": [
    {
     "data": {
      "text/html": [
       "<div>\n",
       "<style scoped>\n",
       "    .dataframe tbody tr th:only-of-type {\n",
       "        vertical-align: middle;\n",
       "    }\n",
       "\n",
       "    .dataframe tbody tr th {\n",
       "        vertical-align: top;\n",
       "    }\n",
       "\n",
       "    .dataframe thead th {\n",
       "        text-align: right;\n",
       "    }\n",
       "</style>\n",
       "<table border=\"1\" class=\"dataframe\">\n",
       "  <thead>\n",
       "    <tr style=\"text-align: right;\">\n",
       "      <th></th>\n",
       "      <th>Customer_care_calls&gt;0</th>\n",
       "      <th>Customer_care_calls=0</th>\n",
       "      <th>Customer_rating&gt;0</th>\n",
       "      <th>Customer_rating=0</th>\n",
       "      <th>Prior_purchases&gt;0</th>\n",
       "      <th>Prior_purchases=0</th>\n",
       "    </tr>\n",
       "    <tr>\n",
       "      <th>id</th>\n",
       "      <th></th>\n",
       "      <th></th>\n",
       "      <th></th>\n",
       "      <th></th>\n",
       "      <th></th>\n",
       "      <th></th>\n",
       "    </tr>\n",
       "  </thead>\n",
       "  <tbody>\n",
       "    <tr>\n",
       "      <th>h10570</th>\n",
       "      <td>True</td>\n",
       "      <td>False</td>\n",
       "      <td>True</td>\n",
       "      <td>False</td>\n",
       "      <td>True</td>\n",
       "      <td>False</td>\n",
       "    </tr>\n",
       "  </tbody>\n",
       "</table>\n",
       "</div>"
      ],
      "text/plain": [
       "        Customer_care_calls>0  Customer_care_calls=0  Customer_rating>0  \\\n",
       "id                                                                        \n",
       "h10570                   True                  False               True   \n",
       "\n",
       "        Customer_rating=0  Prior_purchases>0  Prior_purchases=0  \n",
       "id                                                               \n",
       "h10570              False               True              False  "
      ]
     },
     "execution_count": 32,
     "metadata": {},
     "output_type": "execute_result"
    }
   ],
   "source": [
    "X_train.sample()"
   ]
  },
  {
   "cell_type": "markdown",
   "metadata": {
    "id": "obxf3WTzu8J6"
   },
   "source": [
    "## Step 1. Build Monotone Concept Lattice"
   ]
  },
  {
   "cell_type": "markdown",
   "metadata": {
    "id": "OFZ9pxGXu8J7"
   },
   "source": [
    "Put binarized data in FormalContext and compute monotone ConceptLattice"
   ]
  },
  {
   "cell_type": "code",
   "execution_count": 33,
   "metadata": {
    "colab": {
     "base_uri": "https://localhost:8080/"
    },
    "id": "2s3nNfPCu8J7",
    "outputId": "d436cd4b-9c51-4599-d58e-30b8a2128247"
   },
   "outputs": [
    {
     "data": {
      "text/plain": [
       "FormalContext (7699 objects, 6 attributes, 23097 connections)\n",
       "      |Customer_care_calls>0|Customer_care_calls=0|Customer_rating>0|Customer_rating=0|Prior_purchases>0|Prior_purchases=0|\n",
       "h1589 |                    X|                     |                X|                 |                X|                 |\n",
       "h10175|                    X|                     |                X|                 |                X|                 |\n",
       "h326  |                    X|                     |                X|                 |                X|                 |\n",
       "h10059|                    X|                     |                X|                 |                X|                 |\n",
       "h463  |                    X|                     |                X|                 |                X|                 |\n",
       "h1722 |                    X|                     |                X|                 |                X|                 |\n",
       "h9790 |                    X|                     |                X|                 |                X|                 |\n",
       "h6023 |                    X|                     |                X|                 |                X|                 |\n",
       "h6378 |                    X|                     |                X|                 |                X|                 |\n",
       "h5590 |                    X|                     |                X|                 |                X|                 |\n",
       "...........................................................................................................................\n",
       "...........................................................................................................................\n",
       "h6744 |                    X|                     |                X|                 |                X|                 |\n",
       "h5874 |                    X|                     |                X|                 |                X|                 |\n",
       "h4373 |                    X|                     |                X|                 |                X|                 |\n",
       "h7891 |                    X|                     |                X|                 |                X|                 |\n",
       "h9225 |                    X|                     |                X|                 |                X|                 |\n",
       "h4859 |                    X|                     |                X|                 |                X|                 |\n",
       "h3264 |                    X|                     |                X|                 |                X|                 |\n",
       "h9845 |                    X|                     |                X|                 |                X|                 |\n",
       "h10799|                    X|                     |                X|                 |                X|                 |\n",
       "h2732 |                    X|                     |                X|                 |                X|                 |"
      ]
     },
     "execution_count": 33,
     "metadata": {},
     "output_type": "execute_result"
    }
   ],
   "source": [
    "K_train = FormalContext.from_pandas(X_train)\n",
    "K_train"
   ]
  },
  {
   "cell_type": "code",
   "execution_count": 41,
   "metadata": {
    "colab": {
     "base_uri": "https://localhost:8080/"
    },
    "id": "6pXFHy-Hu8J7",
    "outputId": "b4dcdb98-2be2-45fb-91e8-2974ea5c8626"
   },
   "outputs": [
    {
     "name": "stdout",
     "output_type": "stream",
     "text": [
      "CPU times: user 46.8 ms, sys: 2.97 ms, total: 49.8 ms\n",
      "Wall time: 49.5 ms\n"
     ]
    },
    {
     "data": {
      "text/plain": [
       "2"
      ]
     },
     "execution_count": 41,
     "metadata": {},
     "output_type": "execute_result"
    }
   ],
   "source": [
    "%%time \n",
    "L = ConceptLattice.from_context(K_train, is_monotone=True)\n",
    "len(L)"
   ]
  },
  {
   "cell_type": "markdown",
   "metadata": {
    "id": "DawYnkrju8J8"
   },
   "source": [
    "Compute F1 score for each formal concept  (assuming that an object is predicted True if it is in the extent of the concept)"
   ]
  },
  {
   "cell_type": "code",
   "execution_count": 42,
   "metadata": {
    "id": "1Jr6a97Uu8J8"
   },
   "outputs": [],
   "source": [
    "from sklearn.metrics import f1_score\n",
    "\n",
    "for c in L:\n",
    "    y_preds = np.zeros(K_train.n_objects)\n",
    "    y_preds[list(c.extent_i)] = 1\n",
    "    c.measures['f1_score'] = f1_score(y_train, y_preds)"
   ]
  },
  {
   "cell_type": "markdown",
   "metadata": {
    "id": "gWFF79g1u8J8"
   },
   "source": [
    "Select indices of the best concepts from the lattice"
   ]
  },
  {
   "cell_type": "code",
   "execution_count": 37,
   "metadata": {
    "id": "V_TSgE1tu8J8"
   },
   "outputs": [],
   "source": [
    "best_concepts = list(L.measures['f1_score'].argsort()[::-1][:7])\n",
    "\n",
    "assert len({g_i for c in L[best_concepts] for g_i in c.extent_i})==K_train.n_objects, \"Selected concepts do not cover all train objects\""
   ]
  },
  {
   "cell_type": "markdown",
   "metadata": {
    "id": "FEbdcXTuu8J9"
   },
   "source": [
    "Construct neural network based on concept lattice"
   ]
  },
  {
   "cell_type": "code",
   "execution_count": 38,
   "metadata": {
    "id": "m24Z9BF1u8J9"
   },
   "outputs": [],
   "source": [
    "cn = nl.ConceptNetwork.from_lattice(L, best_concepts, sorted(set(y_train)))"
   ]
  },
  {
   "cell_type": "markdown",
   "metadata": {
    "id": "ECcFd7WNu8J9"
   },
   "source": [
    "Setup visuzalier for the architecture"
   ]
  },
  {
   "cell_type": "code",
   "execution_count": 39,
   "metadata": {
    "id": "hZCxWnGlu8J-"
   },
   "outputs": [],
   "source": [
    "vis = LineVizNx(node_label_font_size=14, node_label_func=lambda el_i, P: nl.neuron_label_func(el_i, P, set(cn.attributes))+'\\n\\n')"
   ]
  },
  {
   "cell_type": "markdown",
   "metadata": {
    "id": "5qjyAmIHu8J-"
   },
   "source": [
    "Move the nodes in visualization to make it look pretty"
   ]
  },
  {
   "cell_type": "code",
   "execution_count": 43,
   "metadata": {
    "id": "ea6AL79Nu8J-"
   },
   "outputs": [
    {
     "data": {
      "text/plain": [
       "'vis.init_mover_per_poset(cn.poset)\\nmvr = vis.mover\\nfor a, b in [(11, 15), (2, 3), (2,8), (2, 4), (4,5), (24, 26), (22, 26), (23, 25), (22, 24), (6, 7), ]:\\n    mvr.swap_nodes(a, b)\\n\\nfor nodes, vert in [\\n    ([19, 18], 0), ([23, 22], 5), ([14, 21,20], 1), ([13, 24, 25], 6), ([26], 7), ([9, 15], 8)\\n]:\\n    for a in nodes:\\n        mvr.place_node(a, mvr.posx[vert])'"
      ]
     },
     "execution_count": 43,
     "metadata": {},
     "output_type": "execute_result"
    }
   ],
   "source": [
    "\"\"\"vis.init_mover_per_poset(cn.poset)\n",
    "mvr = vis.mover\n",
    "for a, b in [(11, 15), (2, 3), (2,8), (2, 4), (4,5), (24, 26), (22, 26), (23, 25), (22, 24), (6, 7), ]:\n",
    "    mvr.swap_nodes(a, b)\n",
    "\n",
    "for nodes, vert in [\n",
    "    ([19, 18], 0), ([23, 22], 5), ([14, 21,20], 1), ([13, 24, 25], 6), ([26], 7), ([9, 15], 8)\n",
    "]:\n",
    "    for a in nodes:\n",
    "        mvr.place_node(a, mvr.posx[vert])\"\"\""
   ]
  },
  {
   "cell_type": "code",
   "execution_count": 44,
   "metadata": {
    "id": "zjwsGnWgu8J_"
   },
   "outputs": [],
   "source": [
    "descr = {'smooth', 'green', 'oval'}\n",
    "\n",
    "traced = cn.trace_description(descr, include_targets=False)"
   ]
  },
  {
   "cell_type": "code",
   "execution_count": 45,
   "metadata": {
    "colab": {
     "base_uri": "https://localhost:8080/",
     "height": 388
    },
    "id": "izLszKkXu8J_",
    "outputId": "f5ad4218-dcf1-4dca-ea7c-da724c260443"
   },
   "outputs": [
    {
     "data": {
      "image/png": "[encoded data removed]",
      "text/plain": [
       "<Figure size 1500x500 with 1 Axes>"
      ]
     },
     "metadata": {},
     "output_type": "display_data"
    }
   ],
   "source": [
    "fig, ax = plt.subplots(figsize=(15,5))\n",
    "\n",
    "vis.draw_poset(\n",
    "    cn.poset, ax=ax,\n",
    "    flg_node_indices=False,\n",
    "    node_label_func=lambda el_i, P: nl.neuron_label_func(el_i, P, set(cn.attributes), only_new_attrs=True)+'\\n\\n',\n",
    "    node_color=['darkblue' if el_i in traced else 'lightgray' for el_i in range(len(cn.poset))]\n",
    ")\n",
    "plt.title(f'NN based on 7 best concepts from monotone concept lattice', loc='left', x=0.05, size=24)\n",
    "\n",
    "plt.text(max(vis.mover.posx), min(vis.mover.posy)-0.3, f'*Blue neurons are the ones activated by description {descr}', fontsize=14, ha='right', color='dimgray')\n",
    "\n",
    "plt.subplots_adjust()\n",
    "plt.tight_layout()\n",
    "plt.show()"
   ]
  },
  {
   "cell_type": "markdown",
   "metadata": {
    "id": "JPrsmFfRu8KA"
   },
   "source": [
    "Now fit the network"
   ]
  },
  {
   "cell_type": "code",
   "execution_count": 46,
   "metadata": {
    "id": "P7g8i3ecu8KA"
   },
   "outputs": [],
   "source": [
    "cn.fit(X_train, y_train)"
   ]
  },
  {
   "cell_type": "markdown",
   "metadata": {
    "id": "i7h8bK8Zu8KA"
   },
   "source": [
    "To obtain the prediction"
   ]
  },
  {
   "cell_type": "code",
   "execution_count": 49,
   "metadata": {
    "colab": {
     "base_uri": "https://localhost:8080/"
    },
    "id": "v20CoH4cu8KG",
    "outputId": "a15bf3e9-0bc2-4173-f954-262f2ce7cf44"
   },
   "outputs": [
    {
     "name": "stdout",
     "output_type": "stream",
     "text": [
      "Class prediction [1 1 1 1 1 1 1 1 1 1]\n",
      "Class prediction with probabilities [[0.2911444  0.70885557]\n",
      " [0.2911444  0.70885557]\n",
      " [0.2911444  0.70885557]\n",
      " [0.2911444  0.70885557]\n",
      " [0.2911444  0.70885557]\n",
      " [0.2911444  0.70885557]\n",
      " [0.2911444  0.70885557]\n",
      " [0.2911444  0.70885557]\n",
      " [0.2911444  0.70885557]\n",
      " [0.2911444  0.70885557]]\n",
      "True class [ True False  True  True False False False False False  True]\n"
     ]
    }
   ],
   "source": [
    "y_pred = cn.predict(X_test).numpy()\n",
    "print('Class prediction', y_pred[:10])\n",
    "y_proba = cn.predict_proba(X_test).detach().numpy()\n",
    "print('Class prediction with probabilities', y_proba[:10])\n",
    "print('True class', y_test.values[:10])"
   ]
  },
  {
   "cell_type": "code",
   "execution_count": 50,
   "metadata": {},
   "outputs": [
    {
     "name": "stdout",
     "output_type": "stream",
     "text": [
      "Recall score: 1.0\n",
      "F1     score: 0.7358743535721126\n",
      "Accuracy score: 0.5821212121212122\n",
      "              precision    recall  f1-score   support\n",
      "\n",
      "           0       0.00      0.00      0.00      1379\n",
      "           1       0.58      1.00      0.74      1921\n",
      "\n",
      "    accuracy                           0.58      3300\n",
      "   macro avg       0.29      0.50      0.37      3300\n",
      "weighted avg       0.34      0.58      0.43      3300\n",
      "\n"
     ]
    },
    {
     "name": "stderr",
     "output_type": "stream",
     "text": [
      "/Users/brtshohin/Library/Python/3.9/lib/python/site-packages/sklearn/metrics/_classification.py:1565: UndefinedMetricWarning: Precision is ill-defined and being set to 0.0 in labels with no predicted samples. Use `zero_division` parameter to control this behavior.\n",
      "  _warn_prf(average, modifier, f\"{metric.capitalize()} is\", len(result))\n",
      "/Users/brtshohin/Library/Python/3.9/lib/python/site-packages/sklearn/metrics/_classification.py:1565: UndefinedMetricWarning: Precision is ill-defined and being set to 0.0 in labels with no predicted samples. Use `zero_division` parameter to control this behavior.\n",
      "  _warn_prf(average, modifier, f\"{metric.capitalize()} is\", len(result))\n",
      "/Users/brtshohin/Library/Python/3.9/lib/python/site-packages/sklearn/metrics/_classification.py:1565: UndefinedMetricWarning: Precision is ill-defined and being set to 0.0 in labels with no predicted samples. Use `zero_division` parameter to control this behavior.\n",
      "  _warn_prf(average, modifier, f\"{metric.capitalize()} is\", len(result))\n"
     ]
    }
   ],
   "source": [
    "print('Recall score:', recall_score(y_test.values.astype('int'), y_pred))\n",
    "print('F1     score:', f1_score(y_test.values.astype('int'), y_pred))\n",
    "print('Accuracy score:', accuracy_score(y_test.values.astype('int'), y_pred))\n",
    "print(classification_report(y_test.values.astype('int'), y_pred))"
   ]
  },
  {
   "cell_type": "markdown",
   "metadata": {
    "id": "ZMye6Bv5u8KG"
   },
   "source": [
    "Let us look at the fitted weights of edges"
   ]
  },
  {
   "cell_type": "code",
   "execution_count": 51,
   "metadata": {
    "colab": {
     "base_uri": "https://localhost:8080/"
    },
    "id": "vUOWnnwdu8KH",
    "outputId": "5a0f64d7-da28-4488-f49b-d62ea7017b49"
   },
   "outputs": [
    {
     "name": "stderr",
     "output_type": "stream",
     "text": [
      "/Users/brtshohin/Library/Python/3.9/lib/python/site-packages/sparselinear/sparselinear.py:301: UserWarning: torch.sparse.SparseTensor(indices, values, shape, *, device=) is deprecated.  Please use torch.sparse_coo_tensor(indices, values, shape, dtype=, device=). (Triggered internally at /Users/runner/work/pytorch/pytorch/pytorch/torch/csrc/utils/tensor_new.cpp:653.)\n",
      "  weight = torch.sparse.FloatTensor(self.indices, self.weights, (self.out_features, self.in_features))\n"
     ]
    }
   ],
   "source": [
    "edge_weights = cn.edge_weights_from_network()"
   ]
  },
  {
   "cell_type": "code",
   "execution_count": 52,
   "metadata": {
    "colab": {
     "base_uri": "https://localhost:8080/",
     "height": 387
    },
    "id": "EQSb6l_nu8KH",
    "outputId": "7d9a7561-0a43-4896-a4e3-c21649a8a307"
   },
   "outputs": [
    {
     "data": {
      "image/png": "[encoded data removed]",
      "text/plain": [
       "<Figure size 1500x500 with 1 Axes>"
      ]
     },
     "metadata": {},
     "output_type": "display_data"
    }
   ],
   "source": [
    "import networkx as nx\n",
    "\n",
    "fig, ax = plt.subplots(figsize=(15,5))\n",
    "\n",
    "vis.draw_poset(\n",
    "    cn.poset, ax=ax,\n",
    "    flg_node_indices=False,\n",
    "    node_label_func=lambda el_i, P: nl.neuron_label_func(el_i, P, set(cn.attributes), only_new_attrs=True)+'\\n\\n',\n",
    "    edge_color=[edge_weights[edge] for edge in cn.poset.to_networkx().edges],\n",
    "    edge_cmap=plt.cm.RdBu,\n",
    ")\n",
    "nx.draw_networkx_edge_labels(cn.poset.to_networkx(), vis.mover.pos, {k: f\"{v:.1f}\" for k,v in edge_weights.items()}, label_pos=0.7)\n",
    "\n",
    "plt.title('Neural network with fitted edge weights', size=24, x=0.05, loc='left')\n",
    "plt.tight_layout()\n",
    "plt.subplots_adjust()\n",
    "plt.savefig('fitted_network.png')\n",
    "plt.show()"
   ]
  }
 ],
 "metadata": {
  "colab": {
   "provenance": []
  },
  "kernelspec": {
   "display_name": "Python 3 (ipykernel)",
   "language": "python",
   "name": "python3"
  },
  "language_info": {
   "codemirror_mode": {
    "name": "ipython",
    "version": 3
   },
   "file_extension": ".py",
   "mimetype": "text/x-python",
   "name": "python",
   "nbconvert_exporter": "python",
   "pygments_lexer": "ipython3",
   "version": "3.9.6"
  }
 },
 "nbformat": 4,
 "nbformat_minor": 4
}
